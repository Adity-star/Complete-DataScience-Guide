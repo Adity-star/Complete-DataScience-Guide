{
  "nbformat": 4,
  "nbformat_minor": 0,
  "metadata": {
    "colab": {
      "provenance": []
    },
    "kernelspec": {
      "name": "python3",
      "display_name": "Python 3"
    },
    "language_info": {
      "name": "python"
    }
  },
  "cells": [
    {
      "cell_type": "markdown",
      "source": [
        "## Pipeline library in transformers\n",
        "* it connects a model with its necessary preprocessing and postprocessing steps, allowing us to directly input any text and get an intelligible answer.\n",
        "we can do several tasks\n",
        "* pipeline will select pretrained model that has been fine tuned for specific purpose,this model will be downloaded and cached when creating classifier.\n"
      ],
      "metadata": {
        "id": "F1wqTQPWUFQo"
      }
    },
    {
      "cell_type": "code",
      "source": [
        "import warnings\n",
        "warnings.filterwarnings('ignore')"
      ],
      "metadata": {
        "id": "jo3vUUplXgxh"
      },
      "execution_count": null,
      "outputs": []
    },
    {
      "cell_type": "markdown",
      "source": [
        "### 1.Sentiment analysis"
      ],
      "metadata": {
        "id": "dj7STffGUVlR"
      }
    },
    {
      "cell_type": "code",
      "execution_count": null,
      "metadata": {
        "colab": {
          "base_uri": "https://localhost:8080/"
        },
        "id": "bK3jFngRSkc_",
        "outputId": "9e6af76f-6773-4629-ae14-3a3c3535a9ae"
      },
      "outputs": [
        {
          "output_type": "stream",
          "name": "stderr",
          "text": [
            "No model was supplied, defaulted to distilbert/distilbert-base-uncased-finetuned-sst-2-english and revision 714eb0f (https://huggingface.co/distilbert/distilbert-base-uncased-finetuned-sst-2-english).\n",
            "Using a pipeline without specifying a model name and revision in production is not recommended.\n",
            "Device set to use cpu\n"
          ]
        },
        {
          "output_type": "execute_result",
          "data": {
            "text/plain": [
              "[{'label': 'POSITIVE', 'score': 0.9995110034942627}]"
            ]
          },
          "metadata": {},
          "execution_count": 5
        }
      ],
      "source": [
        "from transformers import pipeline\n",
        "\n",
        "classifier = pipeline('sentiment-analysis')\n",
        "\n",
        "classifier(\"Ai is so interesting\")"
      ]
    },
    {
      "cell_type": "code",
      "source": [
        "# we can also pass multiple functions..\n",
        "classifier([\"I have been wanting to learn ai from so many time\", \"I am having fun\",\"I dont like this\"])"
      ],
      "metadata": {
        "colab": {
          "base_uri": "https://localhost:8080/"
        },
        "id": "UWJv14ptUA-Z",
        "outputId": "e1be27e2-3214-4446-9a16-1ee0ccdd62f9"
      },
      "execution_count": null,
      "outputs": [
        {
          "output_type": "execute_result",
          "data": {
            "text/plain": [
              "[{'label': 'POSITIVE', 'score': 0.7248480319976807},\n",
              " {'label': 'POSITIVE', 'score': 0.9998772144317627},\n",
              " {'label': 'NEGATIVE', 'score': 0.8758231401443481}]"
            ]
          },
          "metadata": {},
          "execution_count": 6
        }
      ]
    },
    {
      "cell_type": "markdown",
      "source": [
        "## 2. Zero classification\n",
        "* Zero-Shot Classification a technique where the model is\n",
        " capable of classifying data into categories it has never seen during training.\n",
        "  The model can recognize new categories without needing any specific examples of those categories in its training dataset.\n",
        "* In Zero-Shot classification, the model uses prior knowledge about the\n",
        " relationships between classes to make predictions. This is particularly useful in real-world applications where new categories are constantly emerging."
      ],
      "metadata": {
        "id": "7UqLT-_4UA6G"
      }
    },
    {
      "cell_type": "code",
      "source": [
        "from transformers import pipeline\n",
        "\n",
        "classifier = pipeline(\"zero-shot-classification\")\n",
        "\n",
        "classifier(\"I have finished this NLP course\",\n",
        "           candidate_labels=[\"education\", \"politics\", \"business\"])"
      ],
      "metadata": {
        "colab": {
          "base_uri": "https://localhost:8080/"
        },
        "id": "LjtlGPAJU-5j",
        "outputId": "25111341-d184-41dc-d64e-504e95dd47c3"
      },
      "execution_count": null,
      "outputs": [
        {
          "output_type": "stream",
          "name": "stderr",
          "text": [
            "No model was supplied, defaulted to facebook/bart-large-mnli and revision d7645e1 (https://huggingface.co/facebook/bart-large-mnli).\n",
            "Using a pipeline without specifying a model name and revision in production is not recommended.\n",
            "Device set to use cpu\n"
          ]
        },
        {
          "output_type": "execute_result",
          "data": {
            "text/plain": [
              "{'sequence': 'I have finished this NLP course',\n",
              " 'labels': ['education', 'business', 'politics'],\n",
              " 'scores': [0.8662832379341125, 0.09284604340791702, 0.04087067022919655]}"
            ]
          },
          "metadata": {},
          "execution_count": 8
        }
      ]
    },
    {
      "cell_type": "code",
      "source": [
        "classifier(\"When the apple is going to launch its next iphone\",\n",
        "           candidate_labels=[\"education\", \"politics\", \"business\"])"
      ],
      "metadata": {
        "colab": {
          "base_uri": "https://localhost:8080/"
        },
        "id": "HjHqBYYpU-2H",
        "outputId": "b286d709-5c55-4080-df5e-4ccdc39fd0bc"
      },
      "execution_count": null,
      "outputs": [
        {
          "output_type": "execute_result",
          "data": {
            "text/plain": [
              "{'sequence': 'When the apple is going to launch its next iphone',\n",
              " 'labels': ['business', 'politics', 'education'],\n",
              " 'scores': [0.9556035995483398, 0.023129766806960106, 0.02126661315560341]}"
            ]
          },
          "metadata": {},
          "execution_count": 9
        }
      ]
    },
    {
      "cell_type": "markdown",
      "source": [
        "### 3. Text generation\n",
        "* The main idea here is that you provide a prompt and the model will\n",
        "auto-complete it by generating the remaining text."
      ],
      "metadata": {
        "id": "KxlBVAKoU-zq"
      }
    },
    {
      "cell_type": "code",
      "source": [
        "from transformers import pipeline\n",
        "\n",
        "generator = pipeline(\"text-generation\")\n",
        "generator(\"In this trip we will visit \")"
      ],
      "metadata": {
        "colab": {
          "base_uri": "https://localhost:8080/"
        },
        "id": "rxEm7tN1U-xT",
        "outputId": "48e03e5e-0182-48c8-fcd5-564262f89e85"
      },
      "execution_count": null,
      "outputs": [
        {
          "output_type": "stream",
          "name": "stderr",
          "text": [
            "No model was supplied, defaulted to openai-community/gpt2 and revision 607a30d (https://huggingface.co/openai-community/gpt2).\n",
            "Using a pipeline without specifying a model name and revision in production is not recommended.\n",
            "Device set to use cpu\n",
            "Setting `pad_token_id` to `eos_token_id`:50256 for open-end generation.\n"
          ]
        },
        {
          "output_type": "execute_result",
          "data": {
            "text/plain": [
              "[{'generated_text': 'In this trip we will visit \\xa0Nelson Village\\xa0as it was for my trip today, and stay in\\xa0Holland.\\nWe will enter Nelson Village using the new bridge, which opens when the sun has set. We will enjoy'}]"
            ]
          },
          "metadata": {},
          "execution_count": 13
        }
      ]
    },
    {
      "cell_type": "code",
      "source": [
        "generator(\"Today we are going to learn about \")"
      ],
      "metadata": {
        "colab": {
          "base_uri": "https://localhost:8080/"
        },
        "id": "ylOqNBpaU-vL",
        "outputId": "3feeb6ce-57c0-43ac-f412-1b860ed43df7"
      },
      "execution_count": null,
      "outputs": [
        {
          "output_type": "stream",
          "name": "stderr",
          "text": [
            "Setting `pad_token_id` to `eos_token_id`:50256 for open-end generation.\n"
          ]
        },
        {
          "output_type": "execute_result",
          "data": {
            "text/plain": [
              "[{'generated_text': 'Today we are going to learn about vernal hygiene.\\n\\nWe are going to find out whether that hygiene, for example, affects the urinary tract and cardiovascular system in those younger, more advanced young women. We have heard about people who are'}]"
            ]
          },
          "metadata": {},
          "execution_count": 14
        }
      ]
    },
    {
      "cell_type": "markdown",
      "source": [
        "* we can also use different models to use in pipeline for specific task"
      ],
      "metadata": {
        "id": "hUbsKlU8U-su"
      }
    },
    {
      "cell_type": "code",
      "source": [
        "from transformers import pipeline\n",
        "\n",
        "generator = pipeline(\"text-generation\", model=\"distilgpt2\")\n",
        "generator(\n",
        "    \"In this course, we will teach you how to\",\n",
        "    max_length=30,\n",
        "    num_return_sequences=2,\n",
        ")"
      ],
      "metadata": {
        "colab": {
          "base_uri": "https://localhost:8080/"
        },
        "id": "CNnCxkLiYXRg",
        "outputId": "6b2fa9cd-9bee-4bc8-f4f0-8b6484e554e2"
      },
      "execution_count": null,
      "outputs": [
        {
          "output_type": "stream",
          "name": "stderr",
          "text": [
            "Device set to use cpu\n",
            "Truncation was not explicitly activated but `max_length` is provided a specific value, please use `truncation=True` to explicitly truncate examples to max length. Defaulting to 'longest_first' truncation strategy. If you encode pairs of sequences (GLUE-style) with the tokenizer you can select this strategy more precisely by providing a specific strategy to `truncation`.\n",
            "Setting `pad_token_id` to `eos_token_id`:50256 for open-end generation.\n"
          ]
        },
        {
          "output_type": "execute_result",
          "data": {
            "text/plain": [
              "[{'generated_text': 'In this course, we will teach you how to use it, and how to use it.\\nWhat would you like to see in this course?'},\n",
              " {'generated_text': 'In this course, we will teach you how to make beautiful images. The course will demonstrate how you can create beautiful images on the same day of the'}]"
            ]
          },
          "metadata": {},
          "execution_count": 16
        }
      ]
    },
    {
      "cell_type": "markdown",
      "source": [
        "### 4. Mask filling\n",
        "* It fill in the blanks in a given text.\n",
        "* top_k arguments controls how many possible values you want to display"
      ],
      "metadata": {
        "id": "kG7QEKL7YXN_"
      }
    },
    {
      "cell_type": "code",
      "source": [
        "from transformers import pipeline\n",
        "\n",
        "unmask = pipeline(\"fill-mask\")\n",
        "\n",
        "unmask('Today we are going to learn about <mask>.',top_k = 2)"
      ],
      "metadata": {
        "colab": {
          "base_uri": "https://localhost:8080/"
        },
        "id": "xpGNTn3QYXLq",
        "outputId": "2180eda4-4d03-49b1-fbf2-b53ff5869cf3"
      },
      "execution_count": null,
      "outputs": [
        {
          "output_type": "stream",
          "name": "stderr",
          "text": [
            "No model was supplied, defaulted to distilbert/distilroberta-base and revision fb53ab8 (https://huggingface.co/distilbert/distilroberta-base).\n",
            "Using a pipeline without specifying a model name and revision in production is not recommended.\n",
            "Some weights of the model checkpoint at distilbert/distilroberta-base were not used when initializing RobertaForMaskedLM: ['roberta.pooler.dense.bias', 'roberta.pooler.dense.weight']\n",
            "- This IS expected if you are initializing RobertaForMaskedLM from the checkpoint of a model trained on another task or with another architecture (e.g. initializing a BertForSequenceClassification model from a BertForPreTraining model).\n",
            "- This IS NOT expected if you are initializing RobertaForMaskedLM from the checkpoint of a model that you expect to be exactly identical (initializing a BertForSequenceClassification model from a BertForSequenceClassification model).\n",
            "Device set to use cpu\n"
          ]
        },
        {
          "output_type": "execute_result",
          "data": {
            "text/plain": [
              "[{'score': 0.02112429589033127,\n",
              "  'token': 10795,\n",
              "  'token_str': ' evolution',\n",
              "  'sequence': 'Today we are going to learn about evolution.'},\n",
              " {'score': 0.00877564400434494,\n",
              "  'token': 12129,\n",
              "  'token_str': ' robots',\n",
              "  'sequence': 'Today we are going to learn about robots.'}]"
            ]
          },
          "metadata": {},
          "execution_count": 18
        }
      ]
    },
    {
      "cell_type": "markdown",
      "source": [
        "### 5. Question answering"
      ],
      "metadata": {
        "id": "qT_B-j04ZYIX"
      }
    },
    {
      "cell_type": "code",
      "source": [
        "from transformers import pipeline\n",
        "\n",
        "question_answerer = pipeline(\"question-answering\")\n",
        "question_answerer(\n",
        "    question=\"Where do I line?\",\n",
        "    context=\"My name is Aditya and I work at Dubai\",\n",
        ")"
      ],
      "metadata": {
        "colab": {
          "base_uri": "https://localhost:8080/"
        },
        "id": "6d3zq9lUZYFA",
        "outputId": "d7225fa8-9059-40a1-a8d2-14594baa62d4"
      },
      "execution_count": null,
      "outputs": [
        {
          "output_type": "stream",
          "name": "stderr",
          "text": [
            "No model was supplied, defaulted to distilbert/distilbert-base-cased-distilled-squad and revision 564e9b5 (https://huggingface.co/distilbert/distilbert-base-cased-distilled-squad).\n",
            "Using a pipeline without specifying a model name and revision in production is not recommended.\n",
            "Device set to use cpu\n"
          ]
        },
        {
          "output_type": "execute_result",
          "data": {
            "text/plain": [
              "{'score': 0.9976844787597656, 'start': 32, 'end': 37, 'answer': 'Dubai'}"
            ]
          },
          "metadata": {},
          "execution_count": 20
        }
      ]
    },
    {
      "cell_type": "markdown",
      "source": [
        "### 6.Summarization\n",
        "* e task of reducing a text into a shorter text while keeping all (or most) of the important aspects referenced in the text"
      ],
      "metadata": {
        "id": "7Z-of5qgZYDA"
      }
    },
    {
      "cell_type": "code",
      "source": [
        "from transformers import pipeline\n",
        "\n",
        "summarizer = pipeline(\"summarization\")\n",
        "\n",
        "summarizer(\"\"\"Artificial Intelligence (AI) is revolutionizing industries worldwide,\n",
        "             and the financial sector is no exception. From automating routine tasks to\n",
        "             enhancing decision-making processes, AI has become an indispensable tool in\n",
        "             modern finance. This essay explores the transformative impact of AI on finance,\n",
        "             discussing its applications, benefits, challenges, and future potential.\n",
        "             The future of AI in finance holds enormous potential. As technology continues to\n",
        "             evolve, we can expect further advancements in AI’s ability to predict market movements,\n",
        "             assess risk, and personalize financial services.\n",
        "\n",
        "             One of the most exciting prospects is the development of AI-driven\n",
        "             Decentralized Finance (DeFi). DeFi platforms, which leverage blockchain\n",
        "             technology, use AI to automate and streamline financial services\n",
        "             as lending, borrowing, and trading without the need for\n",
        "             intermediaries like banks. This could democratize financial services\n",
        "             , making them more accessible to individuals worldwide, especially in underbanked regions.\n",
        "             Furthermore, AI is likely to play an increasingly central role in financial\n",
        "             regulation. With the help of AI, regulators could monitor financial institutions\n",
        "              more effectively, ensuring compliance with laws and detecting potential\n",
        "               fraud or market manipulation in real-time.\"\"\")"
      ],
      "metadata": {
        "colab": {
          "base_uri": "https://localhost:8080/"
        },
        "id": "MCBT00DWZs8j",
        "outputId": "e9a34066-7e25-411c-8985-6d1c366d4eb3"
      },
      "execution_count": null,
      "outputs": [
        {
          "output_type": "stream",
          "name": "stderr",
          "text": [
            "No model was supplied, defaulted to sshleifer/distilbart-cnn-12-6 and revision a4f8f3e (https://huggingface.co/sshleifer/distilbart-cnn-12-6).\n",
            "Using a pipeline without specifying a model name and revision in production is not recommended.\n",
            "Device set to use cpu\n"
          ]
        },
        {
          "output_type": "execute_result",
          "data": {
            "text/plain": [
              "[{'summary_text': ' Artificial Intelligence (AI) is revolutionizing industries worldwide, and the financial sector is no exception . This essay explores the transformative impact of AI on finance, discussing its applications, benefits, challenges, and future potential . As technology continues to evolve, we can expect further advancements in AI’s ability to predict market movements, assess risk and personalize financial services .'}]"
            ]
          },
          "metadata": {},
          "execution_count": 23
        }
      ]
    },
    {
      "cell_type": "markdown",
      "source": [
        "### 7. Translation\n"
      ],
      "metadata": {
        "id": "1j9OSfQEZs6K"
      }
    },
    {
      "cell_type": "code",
      "source": [
        "from transformers import pipeline\n",
        "\n",
        "translator = pipeline(\"translation\", model=\"Helsinki-NLP/opus-mt-fr-en\")\n",
        "translator(\"Ce cours est produit par IBM.\")"
      ],
      "metadata": {
        "colab": {
          "base_uri": "https://localhost:8080/"
        },
        "id": "E6uLlrBjZs37",
        "outputId": "ff40c747-6164-4f46-bb7f-ae4c596f0822"
      },
      "execution_count": null,
      "outputs": [
        {
          "output_type": "stream",
          "name": "stderr",
          "text": [
            "Device set to use cpu\n"
          ]
        },
        {
          "output_type": "execute_result",
          "data": {
            "text/plain": [
              "[{'translation_text': 'This course is produced by IBM.'}]"
            ]
          },
          "metadata": {},
          "execution_count": 26
        }
      ]
    }
  ]
}