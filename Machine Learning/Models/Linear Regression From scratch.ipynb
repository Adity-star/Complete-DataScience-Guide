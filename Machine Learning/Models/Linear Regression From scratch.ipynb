{
 "cells": [
  {
   "cell_type": "code",
   "execution_count": 5,
   "id": "07b480f5-16a6-49ab-b538-def03c27a670",
   "metadata": {},
   "outputs": [],
   "source": [
    "import numpy as np"
   ]
  },
  {
   "cell_type": "code",
   "execution_count": 15,
   "id": "e4d09e1a-d14a-4bb6-9354-d582623e0701",
   "metadata": {},
   "outputs": [],
   "source": [
    "# sample data\n",
    "np.random.seed(42)\n",
    "\n",
    "x = np.random.rand(100,1)\n",
    "y = 2 + 4*x + np.random.randn(100,1)"
   ]
  },
  {
   "cell_type": "code",
   "execution_count": 56,
   "id": "a53baf04-9052-40c6-9c21-6bd1874fc90e",
   "metadata": {},
   "outputs": [],
   "source": [
    "class LRscratch:\n",
    "\n",
    "    def __init__(self):\n",
    "        self.b = None\n",
    "        self.m = None\n",
    "\n",
    "    def fit(self,X_train,y_train):\n",
    "\n",
    "        num = 0\n",
    "        den = 0\n",
    "        for i in range(X_train.shape[0]):\n",
    "            num = num + ((X_train[i] - X_train.mean())*(y_train[i] - (y_train.mean())))\n",
    "            den = den + (X_train[i] - X_train.mean())**2\n",
    "\n",
    "        self.m = num/den\n",
    "        self.b = y_train.mean() - (self.m * X_train.mean())\n",
    "        print(self.m)\n",
    "        print(self.b)\n",
    "\n",
    "    def predict(self,X_test):\n",
    "        print(X_test)\n",
    "\n",
    "        return self.m * X_test + self.b\n",
    "            "
   ]
  },
  {
   "cell_type": "code",
   "execution_count": 58,
   "id": "4b1920e0-8e18-4805-9bd4-9ef77980686b",
   "metadata": {},
   "outputs": [],
   "source": [
    "from sklearn.model_selection import train_test_split\n",
    "X_train,X_test,y_train,y_test = train_test_split(x,y,test_size=0.2,random_state=2)"
   ]
  },
  {
   "cell_type": "code",
   "execution_count": 60,
   "id": "0eded451-d845-4747-8e57-78e68837569a",
   "metadata": {},
   "outputs": [
    {
     "data": {
      "text/plain": [
       "(80, 1)"
      ]
     },
     "execution_count": 60,
     "metadata": {},
     "output_type": "execute_result"
    }
   ],
   "source": [
    "X_train.shape"
   ]
  },
  {
   "cell_type": "code",
   "execution_count": 62,
   "id": "259604cd-f811-413b-8147-c345cf9319ee",
   "metadata": {},
   "outputs": [
    {
     "name": "stdout",
     "output_type": "stream",
     "text": [
      "[3.4937035]\n",
      "[2.29376813]\n"
     ]
    }
   ],
   "source": [
    "lr = LRscratch()\n",
    "\n",
    "lr.fit(X_train,y_train)"
   ]
  },
  {
   "cell_type": "code",
   "execution_count": 64,
   "id": "538db651-f972-40b8-b003-b63f69647fd3",
   "metadata": {},
   "outputs": [
    {
     "data": {
      "text/plain": [
       "0.4964086218265905"
      ]
     },
     "execution_count": 64,
     "metadata": {},
     "output_type": "execute_result"
    }
   ],
   "source": [
    "X_train.mean()"
   ]
  },
  {
   "cell_type": "code",
   "execution_count": 66,
   "id": "094f587d-ead2-4cb3-8f3e-1115b73dce14",
   "metadata": {},
   "outputs": [
    {
     "name": "stdout",
     "output_type": "stream",
     "text": [
      "[0.06355835]\n",
      "[2.51582216]\n"
     ]
    }
   ],
   "source": [
    "print(lr.predict(X_test[0]))"
   ]
  },
  {
   "cell_type": "code",
   "execution_count": null,
   "id": "e91d3a57-fd4f-4b1f-a036-6bb274a19bdf",
   "metadata": {},
   "outputs": [],
   "source": []
  }
 ],
 "metadata": {
  "kernelspec": {
   "display_name": "Python 3 (ipykernel)",
   "language": "python",
   "name": "python3"
  },
  "language_info": {
   "codemirror_mode": {
    "name": "ipython",
    "version": 3
   },
   "file_extension": ".py",
   "mimetype": "text/x-python",
   "name": "python",
   "nbconvert_exporter": "python",
   "pygments_lexer": "ipython3",
   "version": "3.11.7"
  }
 },
 "nbformat": 4,
 "nbformat_minor": 5
}
