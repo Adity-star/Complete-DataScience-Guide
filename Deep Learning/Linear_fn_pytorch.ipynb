{
  "nbformat": 4,
  "nbformat_minor": 0,
  "metadata": {
    "colab": {
      "provenance": []
    },
    "kernelspec": {
      "name": "python3",
      "display_name": "Python 3"
    },
    "language_info": {
      "name": "python"
    }
  },
  "cells": [
    {
      "cell_type": "code",
      "execution_count": 4,
      "metadata": {
        "id": "S8-avSlmjRLQ"
      },
      "outputs": [],
      "source": [
        "import pandas as pd\n",
        "import requests\n",
        "from bs4 import BeautifulSoup\n",
        "import numpy as np"
      ]
    },
    {
      "cell_type": "code",
      "source": [
        "import torch\n",
        "from torch import nn\n",
        "import matplotlib.pyplot as plt"
      ],
      "metadata": {
        "id": "Sj5LO_nWjVeZ"
      },
      "execution_count": 23,
      "outputs": []
    },
    {
      "cell_type": "code",
      "source": [
        "weight = 0.7\n",
        "bias = 0.3\n",
        "\n",
        "x = torch.arange(1,100,0.7).unsqueeze(dim=1)\n",
        "\n",
        "y = weight * x + bias\n",
        "x[:10],y[:10]"
      ],
      "metadata": {
        "id": "vyUe0SN7jVh6",
        "colab": {
          "base_uri": "https://localhost:8080/"
        },
        "outputId": "8cb09777-c586-4f8d-9e5d-1a6a6737a2e4"
      },
      "execution_count": 14,
      "outputs": [
        {
          "output_type": "execute_result",
          "data": {
            "text/plain": [
              "(tensor([[1.0000],\n",
              "         [1.7000],\n",
              "         [2.4000],\n",
              "         [3.1000],\n",
              "         [3.8000],\n",
              "         [4.5000],\n",
              "         [5.2000],\n",
              "         [5.9000],\n",
              "         [6.6000],\n",
              "         [7.3000]]),\n",
              " tensor([[1.0000],\n",
              "         [1.4900],\n",
              "         [1.9800],\n",
              "         [2.4700],\n",
              "         [2.9600],\n",
              "         [3.4500],\n",
              "         [3.9400],\n",
              "         [4.4300],\n",
              "         [4.9200],\n",
              "         [5.4100]]))"
            ]
          },
          "metadata": {},
          "execution_count": 14
        }
      ]
    },
    {
      "cell_type": "code",
      "source": [
        "train_split = int(0.8 * len(x))\n",
        "X_train,y_train = x[:train_split],y[:train_split]\n",
        "X_test,y_test = x[train_split:],y[train_split:]\n",
        "len(X_train),len(y_train),len(X_test),len(y_test)"
      ],
      "metadata": {
        "colab": {
          "base_uri": "https://localhost:8080/"
        },
        "id": "xGzwD-0J8jCC",
        "outputId": "9c7e1b31-6adf-4cc5-8e99-df75a8ca6a85"
      },
      "execution_count": 15,
      "outputs": [
        {
          "output_type": "execute_result",
          "data": {
            "text/plain": [
              "(113, 113, 29, 29)"
            ]
          },
          "metadata": {},
          "execution_count": 15
        }
      ]
    },
    {
      "cell_type": "code",
      "source": [
        "def plot_pred(train_data = X_train,\n",
        "              train_label = y_train,\n",
        "              test_data = X_test,\n",
        "              test_label = y_test,\n",
        "              predictions = None):\n",
        "  plt.figure(figsize=(12,10))\n",
        "  plt.scatter(X_train,y_train,c='r',label='train data',s=4)\n",
        "  plt.scatter(X_test,y_test,c='b',label='test_data',s=4)\n",
        "  if predictions is not None:\n",
        "   plt.scatter(test_data,predictions,c=\"r\",s=4,label=\"predictions\")\n",
        "   plt.legend(prop={\"size\":14})\n",
        "   plt.show()"
      ],
      "metadata": {
        "id": "7RjS2Fdy8i-o"
      },
      "execution_count": 34,
      "outputs": []
    },
    {
      "cell_type": "code",
      "source": [
        "plot_pred()"
      ],
      "metadata": {
        "colab": {
          "base_uri": "https://localhost:8080/",
          "height": 731
        },
        "id": "ZHoGeCq68i79",
        "outputId": "50b1e871-7ece-4d74-83dd-696413ccf148"
      },
      "execution_count": 35,
      "outputs": [
        {
          "output_type": "display_data",
          "data": {
            "text/plain": [
              "<Figure size 1200x1000 with 1 Axes>"
            ],
            "image/png": "[encoded data removed]"
          },
          "metadata": {}
        }
      ]
    },
    {
      "cell_type": "code",
      "source": [
        "class Linearmodel(nn.Module):\n",
        "  def __init__(self):\n",
        "    super().__init__()\n",
        "    self.weight = nn.Parameter(torch.randn(1,requires_grad=True,dtype=torch.float))\n",
        "    self.bias = nn.Parameter(torch.randn(1,requires_grad=True,dtype=torch.float))\n",
        "    self.sigmoid = nn.Sigmoid()\n",
        "\n",
        "  def forward(self,x:torch.Tensor) -> torch.Tensor:\n",
        "    z = self.weight*x + self.bias\n",
        "    y_pred = self.sigmoid(z)\n",
        "    return y_pred"
      ],
      "metadata": {
        "id": "CiiK7Fvr8i5e"
      },
      "execution_count": 94,
      "outputs": []
    },
    {
      "cell_type": "code",
      "source": [
        "torch.manual_seed(42)\n",
        "\n",
        "model_1 = Linearmodel()\n",
        "\n",
        "list(model_1.parameters())"
      ],
      "metadata": {
        "colab": {
          "base_uri": "https://localhost:8080/"
        },
        "id": "Jh9LIWXu_jLF",
        "outputId": "1a2c27cb-ef67-450f-d260-f153ff643503"
      },
      "execution_count": 95,
      "outputs": [
        {
          "output_type": "execute_result",
          "data": {
            "text/plain": [
              "[Parameter containing:\n",
              " tensor([0.3367], requires_grad=True),\n",
              " Parameter containing:\n",
              " tensor([0.1288], requires_grad=True)]"
            ]
          },
          "metadata": {},
          "execution_count": 95
        }
      ]
    },
    {
      "cell_type": "code",
      "source": [
        "model_1.state_dict()"
      ],
      "metadata": {
        "colab": {
          "base_uri": "https://localhost:8080/"
        },
        "id": "mBcyS1uu_jHs",
        "outputId": "83b04d5b-9972-4ad9-e685-b13551fe8763"
      },
      "execution_count": 96,
      "outputs": [
        {
          "output_type": "execute_result",
          "data": {
            "text/plain": [
              "OrderedDict([('weight', tensor([0.3367])), ('bias', tensor([0.1288]))])"
            ]
          },
          "metadata": {},
          "execution_count": 96
        }
      ]
    },
    {
      "cell_type": "code",
      "source": [
        "y_pred = model_1(X_test)\n",
        "y_pred"
      ],
      "metadata": {
        "colab": {
          "base_uri": "https://localhost:8080/"
        },
        "id": "XtOWjTwc_jFM",
        "outputId": "a96930f9-2d1e-4a79-bc6e-7759938e8347"
      },
      "execution_count": 97,
      "outputs": [
        {
          "output_type": "execute_result",
          "data": {
            "text/plain": [
              "tensor([[1.],\n",
              "        [1.],\n",
              "        [1.],\n",
              "        [1.],\n",
              "        [1.],\n",
              "        [1.],\n",
              "        [1.],\n",
              "        [1.],\n",
              "        [1.],\n",
              "        [1.],\n",
              "        [1.],\n",
              "        [1.],\n",
              "        [1.],\n",
              "        [1.],\n",
              "        [1.],\n",
              "        [1.],\n",
              "        [1.],\n",
              "        [1.],\n",
              "        [1.],\n",
              "        [1.],\n",
              "        [1.],\n",
              "        [1.],\n",
              "        [1.],\n",
              "        [1.],\n",
              "        [1.],\n",
              "        [1.],\n",
              "        [1.],\n",
              "        [1.],\n",
              "        [1.]], grad_fn=<SigmoidBackward0>)"
            ]
          },
          "metadata": {},
          "execution_count": 97
        }
      ]
    },
    {
      "cell_type": "code",
      "source": [
        "with torch.inference_mode():\n",
        "  y_preds = model_1(X_test)\n",
        "\n",
        "y_preds"
      ],
      "metadata": {
        "colab": {
          "base_uri": "https://localhost:8080/"
        },
        "id": "i0xtFZvOCU-l",
        "outputId": "723b9ae5-0b52-4d99-fa85-5c76e4473c72"
      },
      "execution_count": 98,
      "outputs": [
        {
          "output_type": "execute_result",
          "data": {
            "text/plain": [
              "tensor([[1.],\n",
              "        [1.],\n",
              "        [1.],\n",
              "        [1.],\n",
              "        [1.],\n",
              "        [1.],\n",
              "        [1.],\n",
              "        [1.],\n",
              "        [1.],\n",
              "        [1.],\n",
              "        [1.],\n",
              "        [1.],\n",
              "        [1.],\n",
              "        [1.],\n",
              "        [1.],\n",
              "        [1.],\n",
              "        [1.],\n",
              "        [1.],\n",
              "        [1.],\n",
              "        [1.],\n",
              "        [1.],\n",
              "        [1.],\n",
              "        [1.],\n",
              "        [1.],\n",
              "        [1.],\n",
              "        [1.],\n",
              "        [1.],\n",
              "        [1.],\n",
              "        [1.]])"
            ]
          },
          "metadata": {},
          "execution_count": 98
        }
      ]
    },
    {
      "cell_type": "code",
      "source": [
        "plot_pred(predictions=y_preds)\n"
      ],
      "metadata": {
        "colab": {
          "base_uri": "https://localhost:8080/",
          "height": 731
        },
        "id": "ED08y_jACU7H",
        "outputId": "23748726-4e19-4afd-c17d-9a7f727d931d"
      },
      "execution_count": 99,
      "outputs": [
        {
          "output_type": "display_data",
          "data": {
            "text/plain": [
              "<Figure size 1200x1000 with 1 Axes>"
            ],
            "image/png": "[encoded data removed]"
          },
          "metadata": {}
        }
      ]
    },
    {
      "cell_type": "code",
      "source": [
        "loss_fn =  nn.L1Loss()\n",
        "\n",
        "optimizer = torch.optim.SGD(params=model_1.parameters(),lr=0.01)"
      ],
      "metadata": {
        "id": "3hNVSnx0CdXT"
      },
      "execution_count": 101,
      "outputs": []
    },
    {
      "cell_type": "code",
      "source": [
        "torch.manual_seed(42)\n",
        "\n",
        "epochs = 200\n",
        "epoch_count = []\n",
        "loss_values = []\n",
        "test_loss_values = []\n",
        "for epoch in range(epochs):\n",
        "  model_1.train()\n",
        "\n",
        "  y_pred = model_1(X_train)\n",
        "\n",
        "  loss = loss_fn(y_pred,y_train)\n",
        "\n",
        "  optimizer.zero_grad()\n",
        "\n",
        "  loss.backward()\n",
        "\n",
        "  optimizer.step()\n",
        "  model_1.eval()\n",
        "\n",
        "  with torch.inference_mode():\n",
        "\n",
        "    # with torch.no_grad(): # you may also see torch.no_grad() in older PyTorch code\n",
        "    # 1. Do the forward pass\n",
        "    test_pred = model_1(X_test)\n",
        "\n",
        "    # 2. Calculate the loss\n",
        "    test_loss = loss_fn(test_pred, y_test)\n",
        "    if epoch % 10 == 0:\n",
        "      epoch_count.append(epoch)\n",
        "      loss_values.append(loss)\n",
        "      test_loss_values.append(test_loss)\n",
        "    print(f\"Epoch: {epoch} | Loss: {loss} | Test loss: {test_loss}\")\n",
        "    # Print out model state_dict()\n",
        "    print(model_1.state_dict())"
      ],
      "metadata": {
        "colab": {
          "base_uri": "https://localhost:8080/"
        },
        "id": "Cv2Uwy_ACdT4",
        "outputId": "282cdc8e-818f-451e-d9ad-1de3c7bfa814"
      },
      "execution_count": 102,
      "outputs": [
        {
          "output_type": "stream",
          "name": "stdout",
          "text": [
            "Epoch: 0 | Loss: 27.46004295349121 | Test loss: 62.230003356933594\n",
            "OrderedDict([('weight', tensor([0.3374])), ('bias', tensor([0.1290]))])\n",
            "Epoch: 1 | Loss: 27.459991455078125 | Test loss: 62.230003356933594\n",
            "OrderedDict([('weight', tensor([0.3381])), ('bias', tensor([0.1291]))])\n",
            "Epoch: 2 | Loss: 27.459941864013672 | Test loss: 62.230003356933594\n",
            "OrderedDict([('weight', tensor([0.3388])), ('bias', tensor([0.1293]))])\n",
            "Epoch: 3 | Loss: 27.45989227294922 | Test loss: 62.230003356933594\n",
            "OrderedDict([('weight', tensor([0.3395])), ('bias', tensor([0.1294]))])\n",
            "Epoch: 4 | Loss: 27.459840774536133 | Test loss: 62.230003356933594\n",
            "OrderedDict([('weight', tensor([0.3401])), ('bias', tensor([0.1296]))])\n",
            "Epoch: 5 | Loss: 27.45979118347168 | Test loss: 62.230003356933594\n",
            "OrderedDict([('weight', tensor([0.3408])), ('bias', tensor([0.1297]))])\n",
            "Epoch: 6 | Loss: 27.459745407104492 | Test loss: 62.230003356933594\n",
            "OrderedDict([('weight', tensor([0.3415])), ('bias', tensor([0.1299]))])\n",
            "Epoch: 7 | Loss: 27.459693908691406 | Test loss: 62.230003356933594\n",
            "OrderedDict([('weight', tensor([0.3422])), ('bias', tensor([0.1300]))])\n",
            "Epoch: 8 | Loss: 27.45964813232422 | Test loss: 62.230003356933594\n",
            "OrderedDict([('weight', tensor([0.3429])), ('bias', tensor([0.1302]))])\n",
            "Epoch: 9 | Loss: 27.459598541259766 | Test loss: 62.230003356933594\n",
            "OrderedDict([('weight', tensor([0.3435])), ('bias', tensor([0.1303]))])\n",
            "Epoch: 10 | Loss: 27.459550857543945 | Test loss: 62.230003356933594\n",
            "OrderedDict([('weight', tensor([0.3442])), ('bias', tensor([0.1305]))])\n",
            "Epoch: 11 | Loss: 27.459503173828125 | Test loss: 62.230003356933594\n",
            "OrderedDict([('weight', tensor([0.3449])), ('bias', tensor([0.1306]))])\n",
            "Epoch: 12 | Loss: 27.459457397460938 | Test loss: 62.230003356933594\n",
            "OrderedDict([('weight', tensor([0.3455])), ('bias', tensor([0.1308]))])\n",
            "Epoch: 13 | Loss: 27.459409713745117 | Test loss: 62.230003356933594\n",
            "OrderedDict([('weight', tensor([0.3462])), ('bias', tensor([0.1310]))])\n",
            "Epoch: 14 | Loss: 27.45936393737793 | Test loss: 62.230003356933594\n",
            "OrderedDict([('weight', tensor([0.3469])), ('bias', tensor([0.1311]))])\n",
            "Epoch: 15 | Loss: 27.459321975708008 | Test loss: 62.230003356933594\n",
            "OrderedDict([('weight', tensor([0.3475])), ('bias', tensor([0.1313]))])\n",
            "Epoch: 16 | Loss: 27.459274291992188 | Test loss: 62.230003356933594\n",
            "OrderedDict([('weight', tensor([0.3482])), ('bias', tensor([0.1314]))])\n",
            "Epoch: 17 | Loss: 27.459228515625 | Test loss: 62.230003356933594\n",
            "OrderedDict([('weight', tensor([0.3488])), ('bias', tensor([0.1316]))])\n",
            "Epoch: 18 | Loss: 27.459184646606445 | Test loss: 62.230003356933594\n",
            "OrderedDict([('weight', tensor([0.3495])), ('bias', tensor([0.1317]))])\n",
            "Epoch: 19 | Loss: 27.45914077758789 | Test loss: 62.230003356933594\n",
            "OrderedDict([('weight', tensor([0.3501])), ('bias', tensor([0.1318]))])\n",
            "Epoch: 20 | Loss: 27.459096908569336 | Test loss: 62.230003356933594\n",
            "OrderedDict([('weight', tensor([0.3508])), ('bias', tensor([0.1320]))])\n",
            "Epoch: 21 | Loss: 27.45905303955078 | Test loss: 62.230003356933594\n",
            "OrderedDict([('weight', tensor([0.3514])), ('bias', tensor([0.1321]))])\n",
            "Epoch: 22 | Loss: 27.45901107788086 | Test loss: 62.230003356933594\n",
            "OrderedDict([('weight', tensor([0.3520])), ('bias', tensor([0.1323]))])\n",
            "Epoch: 23 | Loss: 27.458967208862305 | Test loss: 62.230003356933594\n",
            "OrderedDict([('weight', tensor([0.3527])), ('bias', tensor([0.1324]))])\n",
            "Epoch: 24 | Loss: 27.45892333984375 | Test loss: 62.230003356933594\n",
            "OrderedDict([('weight', tensor([0.3533])), ('bias', tensor([0.1326]))])\n",
            "Epoch: 25 | Loss: 27.458885192871094 | Test loss: 62.230003356933594\n",
            "OrderedDict([('weight', tensor([0.3539])), ('bias', tensor([0.1327]))])\n",
            "Epoch: 26 | Loss: 27.45884132385254 | Test loss: 62.230003356933594\n",
            "OrderedDict([('weight', tensor([0.3546])), ('bias', tensor([0.1329]))])\n",
            "Epoch: 27 | Loss: 27.458799362182617 | Test loss: 62.230003356933594\n",
            "OrderedDict([('weight', tensor([0.3552])), ('bias', tensor([0.1330]))])\n",
            "Epoch: 28 | Loss: 27.458759307861328 | Test loss: 62.230003356933594\n",
            "OrderedDict([('weight', tensor([0.3558])), ('bias', tensor([0.1332]))])\n",
            "Epoch: 29 | Loss: 27.45871353149414 | Test loss: 62.230003356933594\n",
            "OrderedDict([('weight', tensor([0.3564])), ('bias', tensor([0.1333]))])\n",
            "Epoch: 30 | Loss: 27.45867347717285 | Test loss: 62.230003356933594\n",
            "OrderedDict([('weight', tensor([0.3571])), ('bias', tensor([0.1335]))])\n",
            "Epoch: 31 | Loss: 27.458633422851562 | Test loss: 62.230003356933594\n",
            "OrderedDict([('weight', tensor([0.3577])), ('bias', tensor([0.1336]))])\n",
            "Epoch: 32 | Loss: 27.45859718322754 | Test loss: 62.230003356933594\n",
            "OrderedDict([('weight', tensor([0.3583])), ('bias', tensor([0.1338]))])\n",
            "Epoch: 33 | Loss: 27.45855712890625 | Test loss: 62.230003356933594\n",
            "OrderedDict([('weight', tensor([0.3589])), ('bias', tensor([0.1339]))])\n",
            "Epoch: 34 | Loss: 27.45851707458496 | Test loss: 62.230003356933594\n",
            "OrderedDict([('weight', tensor([0.3595])), ('bias', tensor([0.1340]))])\n",
            "Epoch: 35 | Loss: 27.458477020263672 | Test loss: 62.230003356933594\n",
            "OrderedDict([('weight', tensor([0.3601])), ('bias', tensor([0.1342]))])\n",
            "Epoch: 36 | Loss: 27.45843505859375 | Test loss: 62.230003356933594\n",
            "OrderedDict([('weight', tensor([0.3607])), ('bias', tensor([0.1343]))])\n",
            "Epoch: 37 | Loss: 27.458396911621094 | Test loss: 62.230003356933594\n",
            "OrderedDict([('weight', tensor([0.3613])), ('bias', tensor([0.1345]))])\n",
            "Epoch: 38 | Loss: 27.45836067199707 | Test loss: 62.230003356933594\n",
            "OrderedDict([('weight', tensor([0.3619])), ('bias', tensor([0.1346]))])\n",
            "Epoch: 39 | Loss: 27.458322525024414 | Test loss: 62.230003356933594\n",
            "OrderedDict([('weight', tensor([0.3625])), ('bias', tensor([0.1348]))])\n",
            "Epoch: 40 | Loss: 27.458284378051758 | Test loss: 62.230003356933594\n",
            "OrderedDict([('weight', tensor([0.3631])), ('bias', tensor([0.1349]))])\n",
            "Epoch: 41 | Loss: 27.4582462310791 | Test loss: 62.230003356933594\n",
            "OrderedDict([('weight', tensor([0.3637])), ('bias', tensor([0.1350]))])\n",
            "Epoch: 42 | Loss: 27.458208084106445 | Test loss: 62.230003356933594\n",
            "OrderedDict([('weight', tensor([0.3643])), ('bias', tensor([0.1352]))])\n",
            "Epoch: 43 | Loss: 27.458171844482422 | Test loss: 62.230003356933594\n",
            "OrderedDict([('weight', tensor([0.3649])), ('bias', tensor([0.1353]))])\n",
            "Epoch: 44 | Loss: 27.458133697509766 | Test loss: 62.230003356933594\n",
            "OrderedDict([('weight', tensor([0.3655])), ('bias', tensor([0.1355]))])\n",
            "Epoch: 45 | Loss: 27.458099365234375 | Test loss: 62.230003356933594\n",
            "OrderedDict([('weight', tensor([0.3661])), ('bias', tensor([0.1356]))])\n",
            "Epoch: 46 | Loss: 27.458059310913086 | Test loss: 62.230003356933594\n",
            "OrderedDict([('weight', tensor([0.3667])), ('bias', tensor([0.1357]))])\n",
            "Epoch: 47 | Loss: 27.458024978637695 | Test loss: 62.230003356933594\n",
            "OrderedDict([('weight', tensor([0.3673])), ('bias', tensor([0.1359]))])\n",
            "Epoch: 48 | Loss: 27.457990646362305 | Test loss: 62.230003356933594\n",
            "OrderedDict([('weight', tensor([0.3678])), ('bias', tensor([0.1360]))])\n",
            "Epoch: 49 | Loss: 27.45795249938965 | Test loss: 62.230003356933594\n",
            "OrderedDict([('weight', tensor([0.3684])), ('bias', tensor([0.1362]))])\n",
            "Epoch: 50 | Loss: 27.457916259765625 | Test loss: 62.230003356933594\n",
            "OrderedDict([('weight', tensor([0.3690])), ('bias', tensor([0.1363]))])\n",
            "Epoch: 51 | Loss: 27.457881927490234 | Test loss: 62.230003356933594\n",
            "OrderedDict([('weight', tensor([0.3696])), ('bias', tensor([0.1364]))])\n",
            "Epoch: 52 | Loss: 27.457847595214844 | Test loss: 62.230003356933594\n",
            "OrderedDict([('weight', tensor([0.3702])), ('bias', tensor([0.1366]))])\n",
            "Epoch: 53 | Loss: 27.457813262939453 | Test loss: 62.230003356933594\n",
            "OrderedDict([('weight', tensor([0.3707])), ('bias', tensor([0.1367]))])\n",
            "Epoch: 54 | Loss: 27.45777702331543 | Test loss: 62.230003356933594\n",
            "OrderedDict([('weight', tensor([0.3713])), ('bias', tensor([0.1369]))])\n",
            "Epoch: 55 | Loss: 27.457744598388672 | Test loss: 62.230003356933594\n",
            "OrderedDict([('weight', tensor([0.3719])), ('bias', tensor([0.1370]))])\n",
            "Epoch: 56 | Loss: 27.45771026611328 | Test loss: 62.230003356933594\n",
            "OrderedDict([('weight', tensor([0.3724])), ('bias', tensor([0.1371]))])\n",
            "Epoch: 57 | Loss: 27.45767593383789 | Test loss: 62.230003356933594\n",
            "OrderedDict([('weight', tensor([0.3730])), ('bias', tensor([0.1373]))])\n",
            "Epoch: 58 | Loss: 27.457639694213867 | Test loss: 62.230003356933594\n",
            "OrderedDict([('weight', tensor([0.3736])), ('bias', tensor([0.1374]))])\n",
            "Epoch: 59 | Loss: 27.457605361938477 | Test loss: 62.230003356933594\n",
            "OrderedDict([('weight', tensor([0.3741])), ('bias', tensor([0.1376]))])\n",
            "Epoch: 60 | Loss: 27.45757484436035 | Test loss: 62.230003356933594\n",
            "OrderedDict([('weight', tensor([0.3747])), ('bias', tensor([0.1377]))])\n",
            "Epoch: 61 | Loss: 27.457538604736328 | Test loss: 62.230003356933594\n",
            "OrderedDict([('weight', tensor([0.3752])), ('bias', tensor([0.1378]))])\n",
            "Epoch: 62 | Loss: 27.45750617980957 | Test loss: 62.230003356933594\n",
            "OrderedDict([('weight', tensor([0.3758])), ('bias', tensor([0.1380]))])\n",
            "Epoch: 63 | Loss: 27.457473754882812 | Test loss: 62.230003356933594\n",
            "OrderedDict([('weight', tensor([0.3764])), ('bias', tensor([0.1381]))])\n",
            "Epoch: 64 | Loss: 27.457441329956055 | Test loss: 62.230003356933594\n",
            "OrderedDict([('weight', tensor([0.3769])), ('bias', tensor([0.1382]))])\n",
            "Epoch: 65 | Loss: 27.45741081237793 | Test loss: 62.230003356933594\n",
            "OrderedDict([('weight', tensor([0.3775])), ('bias', tensor([0.1384]))])\n",
            "Epoch: 66 | Loss: 27.457378387451172 | Test loss: 62.230003356933594\n",
            "OrderedDict([('weight', tensor([0.3780])), ('bias', tensor([0.1385]))])\n",
            "Epoch: 67 | Loss: 27.45734977722168 | Test loss: 62.230003356933594\n",
            "OrderedDict([('weight', tensor([0.3786])), ('bias', tensor([0.1386]))])\n",
            "Epoch: 68 | Loss: 27.457317352294922 | Test loss: 62.230003356933594\n",
            "OrderedDict([('weight', tensor([0.3791])), ('bias', tensor([0.1388]))])\n",
            "Epoch: 69 | Loss: 27.4572811126709 | Test loss: 62.230003356933594\n",
            "OrderedDict([('weight', tensor([0.3796])), ('bias', tensor([0.1389]))])\n",
            "Epoch: 70 | Loss: 27.45724868774414 | Test loss: 62.230003356933594\n",
            "OrderedDict([('weight', tensor([0.3802])), ('bias', tensor([0.1391]))])\n",
            "Epoch: 71 | Loss: 27.45722198486328 | Test loss: 62.230003356933594\n",
            "OrderedDict([('weight', tensor([0.3807])), ('bias', tensor([0.1392]))])\n",
            "Epoch: 72 | Loss: 27.45718765258789 | Test loss: 62.230003356933594\n",
            "OrderedDict([('weight', tensor([0.3813])), ('bias', tensor([0.1393]))])\n",
            "Epoch: 73 | Loss: 27.4571590423584 | Test loss: 62.230003356933594\n",
            "OrderedDict([('weight', tensor([0.3818])), ('bias', tensor([0.1395]))])\n",
            "Epoch: 74 | Loss: 27.45712661743164 | Test loss: 62.230003356933594\n",
            "OrderedDict([('weight', tensor([0.3823])), ('bias', tensor([0.1396]))])\n",
            "Epoch: 75 | Loss: 27.457096099853516 | Test loss: 62.230003356933594\n",
            "OrderedDict([('weight', tensor([0.3829])), ('bias', tensor([0.1397]))])\n",
            "Epoch: 76 | Loss: 27.45706558227539 | Test loss: 62.230003356933594\n",
            "OrderedDict([('weight', tensor([0.3834])), ('bias', tensor([0.1399]))])\n",
            "Epoch: 77 | Loss: 27.457035064697266 | Test loss: 62.230003356933594\n",
            "OrderedDict([('weight', tensor([0.3839])), ('bias', tensor([0.1400]))])\n",
            "Epoch: 78 | Loss: 27.45700454711914 | Test loss: 62.230003356933594\n",
            "OrderedDict([('weight', tensor([0.3845])), ('bias', tensor([0.1401]))])\n",
            "Epoch: 79 | Loss: 27.45697784423828 | Test loss: 62.230003356933594\n",
            "OrderedDict([('weight', tensor([0.3850])), ('bias', tensor([0.1403]))])\n",
            "Epoch: 80 | Loss: 27.456947326660156 | Test loss: 62.230003356933594\n",
            "OrderedDict([('weight', tensor([0.3855])), ('bias', tensor([0.1404]))])\n",
            "Epoch: 81 | Loss: 27.45691680908203 | Test loss: 62.230003356933594\n",
            "OrderedDict([('weight', tensor([0.3861])), ('bias', tensor([0.1405]))])\n",
            "Epoch: 82 | Loss: 27.456886291503906 | Test loss: 62.230003356933594\n",
            "OrderedDict([('weight', tensor([0.3866])), ('bias', tensor([0.1406]))])\n",
            "Epoch: 83 | Loss: 27.456857681274414 | Test loss: 62.230003356933594\n",
            "OrderedDict([('weight', tensor([0.3871])), ('bias', tensor([0.1408]))])\n",
            "Epoch: 84 | Loss: 27.456829071044922 | Test loss: 62.230003356933594\n",
            "OrderedDict([('weight', tensor([0.3876])), ('bias', tensor([0.1409]))])\n",
            "Epoch: 85 | Loss: 27.45680046081543 | Test loss: 62.230003356933594\n",
            "OrderedDict([('weight', tensor([0.3882])), ('bias', tensor([0.1410]))])\n",
            "Epoch: 86 | Loss: 27.456771850585938 | Test loss: 62.230003356933594\n",
            "OrderedDict([('weight', tensor([0.3887])), ('bias', tensor([0.1412]))])\n",
            "Epoch: 87 | Loss: 27.456743240356445 | Test loss: 62.230003356933594\n",
            "OrderedDict([('weight', tensor([0.3892])), ('bias', tensor([0.1413]))])\n",
            "Epoch: 88 | Loss: 27.456710815429688 | Test loss: 62.230003356933594\n",
            "OrderedDict([('weight', tensor([0.3897])), ('bias', tensor([0.1414]))])\n",
            "Epoch: 89 | Loss: 27.45668601989746 | Test loss: 62.230003356933594\n",
            "OrderedDict([('weight', tensor([0.3902])), ('bias', tensor([0.1416]))])\n",
            "Epoch: 90 | Loss: 27.45665740966797 | Test loss: 62.230003356933594\n",
            "OrderedDict([('weight', tensor([0.3907])), ('bias', tensor([0.1417]))])\n",
            "Epoch: 91 | Loss: 27.456628799438477 | Test loss: 62.230003356933594\n",
            "OrderedDict([('weight', tensor([0.3912])), ('bias', tensor([0.1418]))])\n",
            "Epoch: 92 | Loss: 27.45659828186035 | Test loss: 62.230003356933594\n",
            "OrderedDict([('weight', tensor([0.3918])), ('bias', tensor([0.1420]))])\n",
            "Epoch: 93 | Loss: 27.456573486328125 | Test loss: 62.230003356933594\n",
            "OrderedDict([('weight', tensor([0.3923])), ('bias', tensor([0.1421]))])\n",
            "Epoch: 94 | Loss: 27.456546783447266 | Test loss: 62.230003356933594\n",
            "OrderedDict([('weight', tensor([0.3928])), ('bias', tensor([0.1422]))])\n",
            "Epoch: 95 | Loss: 27.456520080566406 | Test loss: 62.230003356933594\n",
            "OrderedDict([('weight', tensor([0.3933])), ('bias', tensor([0.1423]))])\n",
            "Epoch: 96 | Loss: 27.456491470336914 | Test loss: 62.230003356933594\n",
            "OrderedDict([('weight', tensor([0.3938])), ('bias', tensor([0.1425]))])\n",
            "Epoch: 97 | Loss: 27.456464767456055 | Test loss: 62.230003356933594\n",
            "OrderedDict([('weight', tensor([0.3943])), ('bias', tensor([0.1426]))])\n",
            "Epoch: 98 | Loss: 27.456436157226562 | Test loss: 62.230003356933594\n",
            "OrderedDict([('weight', tensor([0.3948])), ('bias', tensor([0.1427]))])\n",
            "Epoch: 99 | Loss: 27.456411361694336 | Test loss: 62.230003356933594\n",
            "OrderedDict([('weight', tensor([0.3953])), ('bias', tensor([0.1429]))])\n",
            "Epoch: 100 | Loss: 27.456384658813477 | Test loss: 62.230003356933594\n",
            "OrderedDict([('weight', tensor([0.3958])), ('bias', tensor([0.1430]))])\n",
            "Epoch: 101 | Loss: 27.456357955932617 | Test loss: 62.230003356933594\n",
            "OrderedDict([('weight', tensor([0.3963])), ('bias', tensor([0.1431]))])\n",
            "Epoch: 102 | Loss: 27.45633316040039 | Test loss: 62.230003356933594\n",
            "OrderedDict([('weight', tensor([0.3968])), ('bias', tensor([0.1432]))])\n",
            "Epoch: 103 | Loss: 27.4563045501709 | Test loss: 62.230003356933594\n",
            "OrderedDict([('weight', tensor([0.3973])), ('bias', tensor([0.1434]))])\n",
            "Epoch: 104 | Loss: 27.456279754638672 | Test loss: 62.230003356933594\n",
            "OrderedDict([('weight', tensor([0.3978])), ('bias', tensor([0.1435]))])\n",
            "Epoch: 105 | Loss: 27.45625114440918 | Test loss: 62.230003356933594\n",
            "OrderedDict([('weight', tensor([0.3983])), ('bias', tensor([0.1436]))])\n",
            "Epoch: 106 | Loss: 27.45622444152832 | Test loss: 62.230003356933594\n",
            "OrderedDict([('weight', tensor([0.3987])), ('bias', tensor([0.1438]))])\n",
            "Epoch: 107 | Loss: 27.45620346069336 | Test loss: 62.230003356933594\n",
            "OrderedDict([('weight', tensor([0.3992])), ('bias', tensor([0.1439]))])\n",
            "Epoch: 108 | Loss: 27.456174850463867 | Test loss: 62.230003356933594\n",
            "OrderedDict([('weight', tensor([0.3997])), ('bias', tensor([0.1440]))])\n",
            "Epoch: 109 | Loss: 27.45615005493164 | Test loss: 62.230003356933594\n",
            "OrderedDict([('weight', tensor([0.4002])), ('bias', tensor([0.1441]))])\n",
            "Epoch: 110 | Loss: 27.456125259399414 | Test loss: 62.230003356933594\n",
            "OrderedDict([('weight', tensor([0.4007])), ('bias', tensor([0.1443]))])\n",
            "Epoch: 111 | Loss: 27.45610237121582 | Test loss: 62.230003356933594\n",
            "OrderedDict([('weight', tensor([0.4012])), ('bias', tensor([0.1444]))])\n",
            "Epoch: 112 | Loss: 27.45607566833496 | Test loss: 62.230003356933594\n",
            "OrderedDict([('weight', tensor([0.4017])), ('bias', tensor([0.1445]))])\n",
            "Epoch: 113 | Loss: 27.456050872802734 | Test loss: 62.230003356933594\n",
            "OrderedDict([('weight', tensor([0.4022])), ('bias', tensor([0.1446]))])\n",
            "Epoch: 114 | Loss: 27.456024169921875 | Test loss: 62.230003356933594\n",
            "OrderedDict([('weight', tensor([0.4026])), ('bias', tensor([0.1448]))])\n",
            "Epoch: 115 | Loss: 27.45600128173828 | Test loss: 62.230003356933594\n",
            "OrderedDict([('weight', tensor([0.4031])), ('bias', tensor([0.1449]))])\n",
            "Epoch: 116 | Loss: 27.455974578857422 | Test loss: 62.230003356933594\n",
            "OrderedDict([('weight', tensor([0.4036])), ('bias', tensor([0.1450]))])\n",
            "Epoch: 117 | Loss: 27.455951690673828 | Test loss: 62.230003356933594\n",
            "OrderedDict([('weight', tensor([0.4041])), ('bias', tensor([0.1451]))])\n",
            "Epoch: 118 | Loss: 27.4559268951416 | Test loss: 62.230003356933594\n",
            "OrderedDict([('weight', tensor([0.4045])), ('bias', tensor([0.1453]))])\n",
            "Epoch: 119 | Loss: 27.455902099609375 | Test loss: 62.230003356933594\n",
            "OrderedDict([('weight', tensor([0.4050])), ('bias', tensor([0.1454]))])\n",
            "Epoch: 120 | Loss: 27.45587921142578 | Test loss: 62.230003356933594\n",
            "OrderedDict([('weight', tensor([0.4055])), ('bias', tensor([0.1455]))])\n",
            "Epoch: 121 | Loss: 27.455852508544922 | Test loss: 62.230003356933594\n",
            "OrderedDict([('weight', tensor([0.4060])), ('bias', tensor([0.1456]))])\n",
            "Epoch: 122 | Loss: 27.45583152770996 | Test loss: 62.230003356933594\n",
            "OrderedDict([('weight', tensor([0.4064])), ('bias', tensor([0.1458]))])\n",
            "Epoch: 123 | Loss: 27.455808639526367 | Test loss: 62.230003356933594\n",
            "OrderedDict([('weight', tensor([0.4069])), ('bias', tensor([0.1459]))])\n",
            "Epoch: 124 | Loss: 27.455781936645508 | Test loss: 62.230003356933594\n",
            "OrderedDict([('weight', tensor([0.4074])), ('bias', tensor([0.1460]))])\n",
            "Epoch: 125 | Loss: 27.455760955810547 | Test loss: 62.230003356933594\n",
            "OrderedDict([('weight', tensor([0.4079])), ('bias', tensor([0.1461]))])\n",
            "Epoch: 126 | Loss: 27.45573616027832 | Test loss: 62.230003356933594\n",
            "OrderedDict([('weight', tensor([0.4083])), ('bias', tensor([0.1463]))])\n",
            "Epoch: 127 | Loss: 27.455713272094727 | Test loss: 62.230003356933594\n",
            "OrderedDict([('weight', tensor([0.4088])), ('bias', tensor([0.1464]))])\n",
            "Epoch: 128 | Loss: 27.455690383911133 | Test loss: 62.230003356933594\n",
            "OrderedDict([('weight', tensor([0.4093])), ('bias', tensor([0.1465]))])\n",
            "Epoch: 129 | Loss: 27.455663681030273 | Test loss: 62.230003356933594\n",
            "OrderedDict([('weight', tensor([0.4097])), ('bias', tensor([0.1466]))])\n",
            "Epoch: 130 | Loss: 27.455644607543945 | Test loss: 62.230003356933594\n",
            "OrderedDict([('weight', tensor([0.4102])), ('bias', tensor([0.1468]))])\n",
            "Epoch: 131 | Loss: 27.45561981201172 | Test loss: 62.230003356933594\n",
            "OrderedDict([('weight', tensor([0.4106])), ('bias', tensor([0.1469]))])\n",
            "Epoch: 132 | Loss: 27.455596923828125 | Test loss: 62.230003356933594\n",
            "OrderedDict([('weight', tensor([0.4111])), ('bias', tensor([0.1470]))])\n",
            "Epoch: 133 | Loss: 27.4555721282959 | Test loss: 62.230003356933594\n",
            "OrderedDict([('weight', tensor([0.4116])), ('bias', tensor([0.1471]))])\n",
            "Epoch: 134 | Loss: 27.455551147460938 | Test loss: 62.230003356933594\n",
            "OrderedDict([('weight', tensor([0.4120])), ('bias', tensor([0.1472]))])\n",
            "Epoch: 135 | Loss: 27.45553207397461 | Test loss: 62.230003356933594\n",
            "OrderedDict([('weight', tensor([0.4125])), ('bias', tensor([0.1474]))])\n",
            "Epoch: 136 | Loss: 27.455507278442383 | Test loss: 62.230003356933594\n",
            "OrderedDict([('weight', tensor([0.4129])), ('bias', tensor([0.1475]))])\n",
            "Epoch: 137 | Loss: 27.45548439025879 | Test loss: 62.230003356933594\n",
            "OrderedDict([('weight', tensor([0.4134])), ('bias', tensor([0.1476]))])\n",
            "Epoch: 138 | Loss: 27.455463409423828 | Test loss: 62.230003356933594\n",
            "OrderedDict([('weight', tensor([0.4138])), ('bias', tensor([0.1477]))])\n",
            "Epoch: 139 | Loss: 27.4554386138916 | Test loss: 62.230003356933594\n",
            "OrderedDict([('weight', tensor([0.4143])), ('bias', tensor([0.1479]))])\n",
            "Epoch: 140 | Loss: 27.455419540405273 | Test loss: 62.230003356933594\n",
            "OrderedDict([('weight', tensor([0.4147])), ('bias', tensor([0.1480]))])\n",
            "Epoch: 141 | Loss: 27.455398559570312 | Test loss: 62.230003356933594\n",
            "OrderedDict([('weight', tensor([0.4152])), ('bias', tensor([0.1481]))])\n",
            "Epoch: 142 | Loss: 27.45537757873535 | Test loss: 62.230003356933594\n",
            "OrderedDict([('weight', tensor([0.4156])), ('bias', tensor([0.1482]))])\n",
            "Epoch: 143 | Loss: 27.455354690551758 | Test loss: 62.230003356933594\n",
            "OrderedDict([('weight', tensor([0.4161])), ('bias', tensor([0.1483]))])\n",
            "Epoch: 144 | Loss: 27.455333709716797 | Test loss: 62.230003356933594\n",
            "OrderedDict([('weight', tensor([0.4165])), ('bias', tensor([0.1485]))])\n",
            "Epoch: 145 | Loss: 27.455310821533203 | Test loss: 62.230003356933594\n",
            "OrderedDict([('weight', tensor([0.4170])), ('bias', tensor([0.1486]))])\n",
            "Epoch: 146 | Loss: 27.455289840698242 | Test loss: 62.230003356933594\n",
            "OrderedDict([('weight', tensor([0.4174])), ('bias', tensor([0.1487]))])\n",
            "Epoch: 147 | Loss: 27.45526885986328 | Test loss: 62.230003356933594\n",
            "OrderedDict([('weight', tensor([0.4179])), ('bias', tensor([0.1488]))])\n",
            "Epoch: 148 | Loss: 27.455245971679688 | Test loss: 62.230003356933594\n",
            "OrderedDict([('weight', tensor([0.4183])), ('bias', tensor([0.1489]))])\n",
            "Epoch: 149 | Loss: 27.455224990844727 | Test loss: 62.230003356933594\n",
            "OrderedDict([('weight', tensor([0.4188])), ('bias', tensor([0.1491]))])\n",
            "Epoch: 150 | Loss: 27.45520782470703 | Test loss: 62.230003356933594\n",
            "OrderedDict([('weight', tensor([0.4192])), ('bias', tensor([0.1492]))])\n",
            "Epoch: 151 | Loss: 27.45518684387207 | Test loss: 62.230003356933594\n",
            "OrderedDict([('weight', tensor([0.4197])), ('bias', tensor([0.1493]))])\n",
            "Epoch: 152 | Loss: 27.455163955688477 | Test loss: 62.230003356933594\n",
            "OrderedDict([('weight', tensor([0.4201])), ('bias', tensor([0.1494]))])\n",
            "Epoch: 153 | Loss: 27.455142974853516 | Test loss: 62.230003356933594\n",
            "OrderedDict([('weight', tensor([0.4205])), ('bias', tensor([0.1495]))])\n",
            "Epoch: 154 | Loss: 27.455121994018555 | Test loss: 62.230003356933594\n",
            "OrderedDict([('weight', tensor([0.4210])), ('bias', tensor([0.1497]))])\n",
            "Epoch: 155 | Loss: 27.455101013183594 | Test loss: 62.230003356933594\n",
            "OrderedDict([('weight', tensor([0.4214])), ('bias', tensor([0.1498]))])\n",
            "Epoch: 156 | Loss: 27.455078125 | Test loss: 62.230003356933594\n",
            "OrderedDict([('weight', tensor([0.4218])), ('bias', tensor([0.1499]))])\n",
            "Epoch: 157 | Loss: 27.455060958862305 | Test loss: 62.230003356933594\n",
            "OrderedDict([('weight', tensor([0.4223])), ('bias', tensor([0.1500]))])\n",
            "Epoch: 158 | Loss: 27.455039978027344 | Test loss: 62.230003356933594\n",
            "OrderedDict([('weight', tensor([0.4227])), ('bias', tensor([0.1501]))])\n",
            "Epoch: 159 | Loss: 27.455018997192383 | Test loss: 62.230003356933594\n",
            "OrderedDict([('weight', tensor([0.4231])), ('bias', tensor([0.1502]))])\n",
            "Epoch: 160 | Loss: 27.454999923706055 | Test loss: 62.230003356933594\n",
            "OrderedDict([('weight', tensor([0.4236])), ('bias', tensor([0.1504]))])\n",
            "Epoch: 161 | Loss: 27.454978942871094 | Test loss: 62.230003356933594\n",
            "OrderedDict([('weight', tensor([0.4240])), ('bias', tensor([0.1505]))])\n",
            "Epoch: 162 | Loss: 27.454959869384766 | Test loss: 62.230003356933594\n",
            "OrderedDict([('weight', tensor([0.4244])), ('bias', tensor([0.1506]))])\n",
            "Epoch: 163 | Loss: 27.454936981201172 | Test loss: 62.230003356933594\n",
            "OrderedDict([('weight', tensor([0.4249])), ('bias', tensor([0.1507]))])\n",
            "Epoch: 164 | Loss: 27.454917907714844 | Test loss: 62.230003356933594\n",
            "OrderedDict([('weight', tensor([0.4253])), ('bias', tensor([0.1508]))])\n",
            "Epoch: 165 | Loss: 27.454898834228516 | Test loss: 62.230003356933594\n",
            "OrderedDict([('weight', tensor([0.4257])), ('bias', tensor([0.1509]))])\n",
            "Epoch: 166 | Loss: 27.454879760742188 | Test loss: 62.230003356933594\n",
            "OrderedDict([('weight', tensor([0.4262])), ('bias', tensor([0.1511]))])\n",
            "Epoch: 167 | Loss: 27.45486068725586 | Test loss: 62.230003356933594\n",
            "OrderedDict([('weight', tensor([0.4266])), ('bias', tensor([0.1512]))])\n",
            "Epoch: 168 | Loss: 27.4548397064209 | Test loss: 62.230003356933594\n",
            "OrderedDict([('weight', tensor([0.4270])), ('bias', tensor([0.1513]))])\n",
            "Epoch: 169 | Loss: 27.454818725585938 | Test loss: 62.230003356933594\n",
            "OrderedDict([('weight', tensor([0.4274])), ('bias', tensor([0.1514]))])\n",
            "Epoch: 170 | Loss: 27.454801559448242 | Test loss: 62.230003356933594\n",
            "OrderedDict([('weight', tensor([0.4279])), ('bias', tensor([0.1515]))])\n",
            "Epoch: 171 | Loss: 27.454782485961914 | Test loss: 62.230003356933594\n",
            "OrderedDict([('weight', tensor([0.4283])), ('bias', tensor([0.1517]))])\n",
            "Epoch: 172 | Loss: 27.454763412475586 | Test loss: 62.230003356933594\n",
            "OrderedDict([('weight', tensor([0.4287])), ('bias', tensor([0.1518]))])\n",
            "Epoch: 173 | Loss: 27.454742431640625 | Test loss: 62.230003356933594\n",
            "OrderedDict([('weight', tensor([0.4291])), ('bias', tensor([0.1519]))])\n",
            "Epoch: 174 | Loss: 27.454727172851562 | Test loss: 62.230003356933594\n",
            "OrderedDict([('weight', tensor([0.4295])), ('bias', tensor([0.1520]))])\n",
            "Epoch: 175 | Loss: 27.454708099365234 | Test loss: 62.230003356933594\n",
            "OrderedDict([('weight', tensor([0.4300])), ('bias', tensor([0.1521]))])\n",
            "Epoch: 176 | Loss: 27.454687118530273 | Test loss: 62.230003356933594\n",
            "OrderedDict([('weight', tensor([0.4304])), ('bias', tensor([0.1522]))])\n",
            "Epoch: 177 | Loss: 27.454669952392578 | Test loss: 62.230003356933594\n",
            "OrderedDict([('weight', tensor([0.4308])), ('bias', tensor([0.1523]))])\n",
            "Epoch: 178 | Loss: 27.45465087890625 | Test loss: 62.230003356933594\n",
            "OrderedDict([('weight', tensor([0.4312])), ('bias', tensor([0.1525]))])\n",
            "Epoch: 179 | Loss: 27.454631805419922 | Test loss: 62.230003356933594\n",
            "OrderedDict([('weight', tensor([0.4316])), ('bias', tensor([0.1526]))])\n",
            "Epoch: 180 | Loss: 27.454612731933594 | Test loss: 62.230003356933594\n",
            "OrderedDict([('weight', tensor([0.4320])), ('bias', tensor([0.1527]))])\n",
            "Epoch: 181 | Loss: 27.454593658447266 | Test loss: 62.230003356933594\n",
            "OrderedDict([('weight', tensor([0.4325])), ('bias', tensor([0.1528]))])\n",
            "Epoch: 182 | Loss: 27.45457649230957 | Test loss: 62.230003356933594\n",
            "OrderedDict([('weight', tensor([0.4329])), ('bias', tensor([0.1529]))])\n",
            "Epoch: 183 | Loss: 27.454559326171875 | Test loss: 62.230003356933594\n",
            "OrderedDict([('weight', tensor([0.4333])), ('bias', tensor([0.1530]))])\n",
            "Epoch: 184 | Loss: 27.454540252685547 | Test loss: 62.230003356933594\n",
            "OrderedDict([('weight', tensor([0.4337])), ('bias', tensor([0.1532]))])\n",
            "Epoch: 185 | Loss: 27.45452308654785 | Test loss: 62.230003356933594\n",
            "OrderedDict([('weight', tensor([0.4341])), ('bias', tensor([0.1533]))])\n",
            "Epoch: 186 | Loss: 27.454504013061523 | Test loss: 62.230003356933594\n",
            "OrderedDict([('weight', tensor([0.4345])), ('bias', tensor([0.1534]))])\n",
            "Epoch: 187 | Loss: 27.454486846923828 | Test loss: 62.230003356933594\n",
            "OrderedDict([('weight', tensor([0.4349])), ('bias', tensor([0.1535]))])\n",
            "Epoch: 188 | Loss: 27.454465866088867 | Test loss: 62.230003356933594\n",
            "OrderedDict([('weight', tensor([0.4353])), ('bias', tensor([0.1536]))])\n",
            "Epoch: 189 | Loss: 27.45444679260254 | Test loss: 62.230003356933594\n",
            "OrderedDict([('weight', tensor([0.4357])), ('bias', tensor([0.1537]))])\n",
            "Epoch: 190 | Loss: 27.454431533813477 | Test loss: 62.230003356933594\n",
            "OrderedDict([('weight', tensor([0.4361])), ('bias', tensor([0.1538]))])\n",
            "Epoch: 191 | Loss: 27.45441436767578 | Test loss: 62.230003356933594\n",
            "OrderedDict([('weight', tensor([0.4365])), ('bias', tensor([0.1539]))])\n",
            "Epoch: 192 | Loss: 27.454395294189453 | Test loss: 62.230003356933594\n",
            "OrderedDict([('weight', tensor([0.4370])), ('bias', tensor([0.1541]))])\n",
            "Epoch: 193 | Loss: 27.454378128051758 | Test loss: 62.230003356933594\n",
            "OrderedDict([('weight', tensor([0.4374])), ('bias', tensor([0.1542]))])\n",
            "Epoch: 194 | Loss: 27.454360961914062 | Test loss: 62.230003356933594\n",
            "OrderedDict([('weight', tensor([0.4378])), ('bias', tensor([0.1543]))])\n",
            "Epoch: 195 | Loss: 27.454343795776367 | Test loss: 62.230003356933594\n",
            "OrderedDict([('weight', tensor([0.4382])), ('bias', tensor([0.1544]))])\n",
            "Epoch: 196 | Loss: 27.454322814941406 | Test loss: 62.230003356933594\n",
            "OrderedDict([('weight', tensor([0.4386])), ('bias', tensor([0.1545]))])\n",
            "Epoch: 197 | Loss: 27.454309463500977 | Test loss: 62.230003356933594\n",
            "OrderedDict([('weight', tensor([0.4390])), ('bias', tensor([0.1546]))])\n",
            "Epoch: 198 | Loss: 27.45429229736328 | Test loss: 62.230003356933594\n",
            "OrderedDict([('weight', tensor([0.4394])), ('bias', tensor([0.1547]))])\n",
            "Epoch: 199 | Loss: 27.45427131652832 | Test loss: 62.230003356933594\n",
            "OrderedDict([('weight', tensor([0.4398])), ('bias', tensor([0.1549]))])\n"
          ]
        }
      ]
    },
    {
      "cell_type": "code",
      "source": [
        "\n",
        "with torch.inference_mode():\n",
        "  y_pred_new = model_1(X_test)"
      ],
      "metadata": {
        "id": "4QDVUV3lCdRj"
      },
      "execution_count": 103,
      "outputs": []
    },
    {
      "cell_type": "code",
      "source": [
        "plot_pred(predictions=y_pred_new)"
      ],
      "metadata": {
        "colab": {
          "base_uri": "https://localhost:8080/",
          "height": 731
        },
        "id": "oq8BNkWhCdPK",
        "outputId": "21f3ccaf-88ba-4b1d-f11e-9bfe92b39e1e"
      },
      "execution_count": 104,
      "outputs": [
        {
          "output_type": "display_data",
          "data": {
            "text/plain": [
              "<Figure size 1200x1000 with 1 Axes>"
            ],
            "image/png": "[encoded data removed]"
          },
          "metadata": {}
        }
      ]
    },
    {
      "cell_type": "code",
      "source": [],
      "metadata": {
        "id": "XnMm-7qWCdMg"
      },
      "execution_count": null,
      "outputs": []
    }
  ]
}