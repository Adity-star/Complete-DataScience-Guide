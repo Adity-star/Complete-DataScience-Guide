{
  "nbformat": 4,
  "nbformat_minor": 0,
  "metadata": {
    "colab": {
      "provenance": []
    },
    "kernelspec": {
      "name": "python3",
      "display_name": "Python 3"
    },
    "language_info": {
      "name": "python"
    }
  },
  "cells": [
    {
      "cell_type": "code",
      "execution_count": 1,
      "metadata": {
        "id": "1sPUZRTnwel9"
      },
      "outputs": [],
      "source": [
        "import torch\n"
      ]
    },
    {
      "cell_type": "code",
      "source": [
        "a = torch.ones((2,4))"
      ],
      "metadata": {
        "id": "vQO_hhLjwkMt"
      },
      "execution_count": 7,
      "outputs": []
    },
    {
      "cell_type": "code",
      "source": [
        "a"
      ],
      "metadata": {
        "colab": {
          "base_uri": "https://localhost:8080/"
        },
        "id": "WhmqzDr3wkOa",
        "outputId": "730294b2-4591-43ef-8efb-10c24cf51bf3"
      },
      "execution_count": 8,
      "outputs": [
        {
          "output_type": "execute_result",
          "data": {
            "text/plain": [
              "tensor([[1., 1., 1., 1.],\n",
              "        [1., 1., 1., 1.]])"
            ]
          },
          "metadata": {},
          "execution_count": 8
        }
      ]
    },
    {
      "cell_type": "code",
      "source": [
        "a = a.new_ones(6,5,dtype=torch.half)"
      ],
      "metadata": {
        "id": "twFctIyNwkQv"
      },
      "execution_count": 13,
      "outputs": []
    },
    {
      "cell_type": "code",
      "source": [
        "a.size()"
      ],
      "metadata": {
        "colab": {
          "base_uri": "https://localhost:8080/"
        },
        "id": "nVdXD36txOLj",
        "outputId": "6f9b005c-237c-4b6c-93aa-c3a9dce703a8"
      },
      "execution_count": 14,
      "outputs": [
        {
          "output_type": "execute_result",
          "data": {
            "text/plain": [
              "torch.Size([6, 5])"
            ]
          },
          "metadata": {},
          "execution_count": 14
        }
      ]
    },
    {
      "cell_type": "code",
      "source": [
        "b = torch.rand(3,3,3)"
      ],
      "metadata": {
        "id": "6iPojna3xONn"
      },
      "execution_count": 27,
      "outputs": []
    },
    {
      "cell_type": "code",
      "source": [
        "result = torch.empty(3,3)"
      ],
      "metadata": {
        "id": "_vKARG_UxOQ1"
      },
      "execution_count": 21,
      "outputs": []
    },
    {
      "cell_type": "code",
      "source": [
        "result"
      ],
      "metadata": {
        "colab": {
          "base_uri": "https://localhost:8080/"
        },
        "id": "nSsKxmKbx6dj",
        "outputId": "3d192119-1327-4c37-d32d-6403aca0598f"
      },
      "execution_count": 22,
      "outputs": [
        {
          "output_type": "execute_result",
          "data": {
            "text/plain": [
              "tensor([[ 1.5080e-38,  0.0000e+00, -2.0318e+27],\n",
              "        [ 4.4504e-41, -2.0245e+27,  4.4504e-41],\n",
              "        [-4.3768e+28,  4.4504e-41,  1.5081e-38]])"
            ]
          },
          "metadata": {},
          "execution_count": 22
        }
      ]
    },
    {
      "cell_type": "code",
      "source": [
        "  b"
      ],
      "metadata": {
        "colab": {
          "base_uri": "https://localhost:8080/"
        },
        "id": "Ovr4mvq_x6fr",
        "outputId": "310eb8bc-80af-4e33-858b-9b8bc8f7d7ea"
      },
      "execution_count": 28,
      "outputs": [
        {
          "output_type": "execute_result",
          "data": {
            "text/plain": [
              "tensor([[[0.9193, 0.7425, 0.6969],\n",
              "         [0.7940, 0.3751, 0.8684],\n",
              "         [0.2571, 0.4118, 0.2587]],\n",
              "\n",
              "        [[0.3523, 0.8755, 0.7364],\n",
              "         [0.0662, 0.1382, 0.7688],\n",
              "         [0.3456, 0.2302, 0.0432]],\n",
              "\n",
              "        [[0.6057, 0.3117, 0.9829],\n",
              "         [0.6973, 0.3240, 0.5268],\n",
              "         [0.3877, 0.3314, 0.2726]]])"
            ]
          },
          "metadata": {},
          "execution_count": 28
        }
      ]
    },
    {
      "cell_type": "code",
      "source": [
        "b[:,2:3]"
      ],
      "metadata": {
        "colab": {
          "base_uri": "https://localhost:8080/"
        },
        "id": "KTsVugWnyBCa",
        "outputId": "2abe01f1-da19-48b5-8e4c-2992cd8bf986"
      },
      "execution_count": 30,
      "outputs": [
        {
          "output_type": "execute_result",
          "data": {
            "text/plain": [
              "tensor([[[0.2571, 0.4118, 0.2587]],\n",
              "\n",
              "        [[0.3456, 0.2302, 0.0432]],\n",
              "\n",
              "        [[0.3877, 0.3314, 0.2726]]])"
            ]
          },
          "metadata": {},
          "execution_count": 30
        }
      ]
    },
    {
      "cell_type": "code",
      "source": [
        "b = b.numpy()"
      ],
      "metadata": {
        "id": "UF4h2QPtyvQ9"
      },
      "execution_count": 31,
      "outputs": []
    },
    {
      "cell_type": "code",
      "source": [
        "type(b)"
      ],
      "metadata": {
        "colab": {
          "base_uri": "https://localhost:8080/"
        },
        "id": "Vu8W-qWMyvNf",
        "outputId": "098f397c-2096-49c9-fa19-29d8fc222643"
      },
      "execution_count": 32,
      "outputs": [
        {
          "output_type": "execute_result",
          "data": {
            "text/plain": [
              "numpy.ndarray"
            ]
          },
          "metadata": {},
          "execution_count": 32
        }
      ]
    },
    {
      "cell_type": "markdown",
      "source": [
        "### Autograd -- automati differentiation\n",
        "definition - calculates derivatives ,records graph for all the operations performed on gradient tensor .It is reverse mode actomatic differentiation ,i.e for computing gradient."
      ],
      "metadata": {
        "id": "MhCR_tqayvLr"
      }
    },
    {
      "cell_type": "code",
      "source": [
        "a = torch.ones(2,2,requires_grad=True)\n",
        "a"
      ],
      "metadata": {
        "colab": {
          "base_uri": "https://localhost:8080/"
        },
        "id": "l6_t5eLzyvJb",
        "outputId": "8e87d037-d666-40c4-d060-8cbf083d829f"
      },
      "execution_count": 35,
      "outputs": [
        {
          "output_type": "execute_result",
          "data": {
            "text/plain": [
              "tensor([[1., 1.],\n",
              "        [1., 1.]], requires_grad=True)"
            ]
          },
          "metadata": {},
          "execution_count": 35
        }
      ]
    },
    {
      "cell_type": "code",
      "source": [
        "b = a + 2\n",
        "print(b)"
      ],
      "metadata": {
        "colab": {
          "base_uri": "https://localhost:8080/"
        },
        "id": "IMfsqIDByvH5",
        "outputId": "162f8d66-550c-4feb-8e2b-3c4e766e684f"
      },
      "execution_count": 34,
      "outputs": [
        {
          "output_type": "stream",
          "name": "stdout",
          "text": [
            "tensor([[3., 3.],\n",
            "        [3., 3.]], grad_fn=<AddBackward0>)\n"
          ]
        }
      ]
    },
    {
      "cell_type": "code",
      "source": [
        "print(b.grad_fn)"
      ],
      "metadata": {
        "colab": {
          "base_uri": "https://localhost:8080/"
        },
        "id": "jN9hMYNvyvFc",
        "outputId": "2db104d5-823f-4949-e3ac-3ac328f23410"
      },
      "execution_count": 36,
      "outputs": [
        {
          "output_type": "stream",
          "name": "stdout",
          "text": [
            "<AddBackward0 object at 0x7c0feb1439a0>\n"
          ]
        }
      ]
    },
    {
      "cell_type": "code",
      "source": [
        "c = b*b*3\n",
        "out = c.mean()\n",
        "print(c,out)"
      ],
      "metadata": {
        "colab": {
          "base_uri": "https://localhost:8080/"
        },
        "id": "WA0hWknPyvAd",
        "outputId": "d9f7281b-ad49-42f6-a87b-d62cdc667406"
      },
      "execution_count": 40,
      "outputs": [
        {
          "output_type": "stream",
          "name": "stdout",
          "text": [
            "tensor([[27., 27.],\n",
            "        [27., 27.]], grad_fn=<MulBackward0>) tensor(27., grad_fn=<MeanBackward0>)\n"
          ]
        }
      ]
    },
    {
      "cell_type": "code",
      "source": [
        "p = torch.randn(3,3)\n",
        "p = ((p*3)/(p-1))\n",
        "print(p.requires_grad)"
      ],
      "metadata": {
        "colab": {
          "base_uri": "https://localhost:8080/"
        },
        "id": "OC2CSAnq1ioH",
        "outputId": "885b178a-1bfa-48c3-cdb2-c61b4713d3a9"
      },
      "execution_count": 42,
      "outputs": [
        {
          "output_type": "stream",
          "name": "stdout",
          "text": [
            "False\n"
          ]
        }
      ]
    },
    {
      "cell_type": "code",
      "source": [
        "p.requires_grad_(True)\n",
        "print(p.requires_grad)"
      ],
      "metadata": {
        "colab": {
          "base_uri": "https://localhost:8080/"
        },
        "id": "E0OpKtSe1iqu",
        "outputId": "b663cc2a-b914-4a81-ffd3-c3594228161a"
      },
      "execution_count": 44,
      "outputs": [
        {
          "output_type": "stream",
          "name": "stdout",
          "text": [
            "True\n"
          ]
        }
      ]
    },
    {
      "cell_type": "code",
      "source": [
        "q = (p*p).sum()\n",
        "print(q.grad_fn)"
      ],
      "metadata": {
        "colab": {
          "base_uri": "https://localhost:8080/"
        },
        "id": "4pu0jRek1iuH",
        "outputId": "4275dea2-744a-4df8-c7c9-53b1066a9074"
      },
      "execution_count": 45,
      "outputs": [
        {
          "output_type": "stream",
          "name": "stdout",
          "text": [
            "<SumBackward0 object at 0x7c0feb0e6710>\n"
          ]
        }
      ]
    },
    {
      "cell_type": "code",
      "source": [
        "out"
      ],
      "metadata": {
        "colab": {
          "base_uri": "https://localhost:8080/"
        },
        "id": "QM5DBe5w2cGi",
        "outputId": "592d62d1-f182-4bc9-c791-33014efbfa01"
      },
      "execution_count": 46,
      "outputs": [
        {
          "output_type": "execute_result",
          "data": {
            "text/plain": [
              "tensor(27., grad_fn=<MeanBackward0>)"
            ]
          },
          "metadata": {},
          "execution_count": 46
        }
      ]
    },
    {
      "cell_type": "code",
      "source": [
        "out.backward()"
      ],
      "metadata": {
        "id": "FCYa5LKo2dPt"
      },
      "execution_count": 47,
      "outputs": []
    },
    {
      "cell_type": "code",
      "source": [
        "a = torch.ones(2,2,requires_grad=True)"
      ],
      "metadata": {
        "id": "w3kSN4en2dMW"
      },
      "execution_count": 50,
      "outputs": []
    },
    {
      "cell_type": "code",
      "source": [
        "print(a.grad)"
      ],
      "metadata": {
        "colab": {
          "base_uri": "https://localhost:8080/"
        },
        "id": "lqoDHHSD3Lrz",
        "outputId": "a17095ec-2741-48f1-85e6-6cb83d88fd91"
      },
      "execution_count": 55,
      "outputs": [
        {
          "output_type": "stream",
          "name": "stdout",
          "text": [
            "None\n"
          ]
        }
      ]
    },
    {
      "cell_type": "code",
      "source": [
        "print(a.grad)\n"
      ],
      "metadata": {
        "colab": {
          "base_uri": "https://localhost:8080/"
        },
        "id": "vIcvdpdY2dJ-",
        "outputId": "55a3996e-a6b7-4038-b06c-72e567c67f25"
      },
      "execution_count": 51,
      "outputs": [
        {
          "output_type": "stream",
          "name": "stdout",
          "text": [
            "None\n"
          ]
        }
      ]
    },
    {
      "cell_type": "markdown",
      "source": [
        "### Define a neural network"
      ],
      "metadata": {
        "id": "eH4KxJ8_2dIH"
      }
    },
    {
      "cell_type": "code",
      "source": [
        "import torch\n",
        "import torch.nn as nn\n",
        "import torch.nn.functional as F"
      ],
      "metadata": {
        "id": "idw5TXpP4FLP"
      },
      "execution_count": 57,
      "outputs": []
    },
    {
      "cell_type": "code",
      "source": [
        "class network(nn.Module):\n",
        "  def __init__(self):\n",
        "     super(network, self).__init__()\n",
        "\n",
        "     self.conv1 = nn.Conv2d(1,6,3) # 1-- input dim / 6 -- output dim / 3 -- kernal or filter size(3 * 3)\n",
        "     self.conv2 = nn.Conv2d(6,16,3)\n",
        "\n",
        "     self.fc1 = nn.Linear(16*6*6,120)\n",
        "     self.fc2 = nn.Linear(120,84)\n",
        "     self.fc3 = nn.Linear(84,10)\n",
        "\n",
        "\n",
        "  def forward(self,x):\n",
        "    x = F.max_pool2d(F.relu(self.conv1(x)),(2,2))\n",
        "    x = F.max_pool2d(F.relu(self.conv2(x)),2)\n",
        "    x = x.view(-1,self.num_flat_features(x))\n",
        "    x = F.relu(self.fc1(x))\n",
        "    x = F.relu(self.fc2(x))\n",
        "    x = self.fc3(x)\n",
        "    return x\n",
        "  def num_flat_features(self,x):\n",
        "    size = x.size()[1:]\n",
        "    num_features = 1\n",
        "    for s in size:\n",
        "      num_features *= s\n",
        "    return num_features\n",
        "\n",
        "net = network()\n",
        "print(net)\n",
        "\n",
        ""
      ],
      "metadata": {
        "colab": {
          "base_uri": "https://localhost:8080/"
        },
        "id": "c9lybhAe4FNZ",
        "outputId": "ec815bf8-3393-4160-95cc-feef661a46ad"
      },
      "execution_count": 60,
      "outputs": [
        {
          "output_type": "stream",
          "name": "stdout",
          "text": [
            "network(\n",
            "  (conv1): Conv2d(1, 6, kernel_size=(3, 3), stride=(1, 1))\n",
            "  (conv2): Conv2d(6, 16, kernel_size=(3, 3), stride=(1, 1))\n",
            "  (fc1): Linear(in_features=576, out_features=120, bias=True)\n",
            "  (fc2): Linear(in_features=120, out_features=84, bias=True)\n",
            "  (fc3): Linear(in_features=84, out_features=10, bias=True)\n",
            ")\n"
          ]
        }
      ]
    },
    {
      "cell_type": "code",
      "source": [
        "list(net.parameters())[0]"
      ],
      "metadata": {
        "colab": {
          "base_uri": "https://localhost:8080/"
        },
        "id": "3cTexqEg8FOL",
        "outputId": "6524e7e3-ffec-4c7e-e92c-4d3127b9f5d9"
      },
      "execution_count": 63,
      "outputs": [
        {
          "output_type": "execute_result",
          "data": {
            "text/plain": [
              "Parameter containing:\n",
              "tensor([[[[-0.0541,  0.3060,  0.2261],\n",
              "          [ 0.0035, -0.0291, -0.1247],\n",
              "          [ 0.1093,  0.0178, -0.1798]]],\n",
              "\n",
              "\n",
              "        [[[ 0.2942, -0.2039,  0.0541],\n",
              "          [-0.0542,  0.1772,  0.2888],\n",
              "          [-0.0193, -0.0057, -0.0160]]],\n",
              "\n",
              "\n",
              "        [[[ 0.2686, -0.0562, -0.1927],\n",
              "          [-0.0760, -0.3111, -0.2663],\n",
              "          [ 0.0365, -0.0761, -0.2804]]],\n",
              "\n",
              "\n",
              "        [[[-0.0779, -0.2778,  0.2931],\n",
              "          [-0.1957, -0.0495, -0.2740],\n",
              "          [-0.1555, -0.1132,  0.0644]]],\n",
              "\n",
              "\n",
              "        [[[ 0.0930, -0.0497,  0.1184],\n",
              "          [ 0.0633,  0.2020, -0.0932],\n",
              "          [ 0.2301,  0.0701,  0.1825]]],\n",
              "\n",
              "\n",
              "        [[[ 0.2181,  0.1294, -0.2584],\n",
              "          [ 0.0109,  0.1026,  0.2146],\n",
              "          [ 0.1458, -0.3326, -0.1145]]]], requires_grad=True)"
            ]
          },
          "metadata": {},
          "execution_count": 63
        }
      ]
    },
    {
      "cell_type": "code",
      "source": [
        "params = list(net.parameters())\n",
        "print(len(params))\n",
        "print(params[0].size()) # learneable parameters of model are returns by net.parameters()"
      ],
      "metadata": {
        "colab": {
          "base_uri": "https://localhost:8080/"
        },
        "id": "1Q04gEOn4FPn",
        "outputId": "600daa06-7280-482c-8a11-dfe0b69caace"
      },
      "execution_count": 61,
      "outputs": [
        {
          "output_type": "stream",
          "name": "stdout",
          "text": [
            "10\n",
            "torch.Size([6, 1, 3, 3])\n"
          ]
        }
      ]
    },
    {
      "cell_type": "code",
      "source": [
        "inp = torch.randn(1,1,32,32)\n",
        "out = net(inp)\n",
        "print(out)"
      ],
      "metadata": {
        "colab": {
          "base_uri": "https://localhost:8080/"
        },
        "id": "QmG6Ev004FRt",
        "outputId": "d844fe90-922f-46ca-f052-9f71d661116d"
      },
      "execution_count": 64,
      "outputs": [
        {
          "output_type": "stream",
          "name": "stdout",
          "text": [
            "tensor([[ 0.0263, -0.0391, -0.0737,  0.0346, -0.0766, -0.1009, -0.0039,  0.0266,\n",
            "         -0.0158,  0.0019]], grad_fn=<AddmmBackward0>)\n"
          ]
        }
      ]
    },
    {
      "cell_type": "code",
      "source": [
        "net.zero_grad()\n",
        "out.backward(torch.randn(1,10))"
      ],
      "metadata": {
        "id": "7in_7H-K4FT9"
      },
      "execution_count": 65,
      "outputs": []
    },
    {
      "cell_type": "code",
      "source": [
        "tensor = torch.ones(4, 4)\n",
        "print(f\"First row: {tensor[0]}\")\n",
        "print(f\"First column: {tensor[:, 0]}\")\n",
        "print(f\"Last column: {tensor[..., -1]}\")\n",
        "tensor[:,1] = 0\n",
        "print(tensor)"
      ],
      "metadata": {
        "colab": {
          "base_uri": "https://localhost:8080/"
        },
        "id": "MPvLyIzI4FV8",
        "outputId": "779d0c11-a6b0-4905-b33f-23e1afc502d9"
      },
      "execution_count": 66,
      "outputs": [
        {
          "output_type": "stream",
          "name": "stdout",
          "text": [
            "First row: tensor([1., 1., 1., 1.])\n",
            "First column: tensor([1., 1., 1., 1.])\n",
            "Last column: tensor([1., 1., 1., 1.])\n",
            "tensor([[1., 0., 1., 1.],\n",
            "        [1., 0., 1., 1.],\n",
            "        [1., 0., 1., 1.],\n",
            "        [1., 0., 1., 1.]])\n"
          ]
        }
      ]
    },
    {
      "cell_type": "code",
      "source": [
        "t1 = torch.cat([tensor, tensor, tensor], dim=1)\n",
        "print(t1)"
      ],
      "metadata": {
        "colab": {
          "base_uri": "https://localhost:8080/"
        },
        "id": "46N9tkqr4FZW",
        "outputId": "c1f895d1-9706-4ffd-c414-5c2179dec620"
      },
      "execution_count": 67,
      "outputs": [
        {
          "output_type": "stream",
          "name": "stdout",
          "text": [
            "tensor([[1., 0., 1., 1., 1., 0., 1., 1., 1., 0., 1., 1.],\n",
            "        [1., 0., 1., 1., 1., 0., 1., 1., 1., 0., 1., 1.],\n",
            "        [1., 0., 1., 1., 1., 0., 1., 1., 1., 0., 1., 1.],\n",
            "        [1., 0., 1., 1., 1., 0., 1., 1., 1., 0., 1., 1.]])\n"
          ]
        }
      ]
    },
    {
      "cell_type": "code",
      "source": [
        "y1 = tensor @ tensor.T\n",
        "y2 = tensor.matmul(tensor.T)"
      ],
      "metadata": {
        "id": "UIp6WSt7KrEQ"
      },
      "execution_count": 68,
      "outputs": []
    },
    {
      "cell_type": "code",
      "source": [
        "y3 = torch.rand_like(y1)\n",
        "torch.matmul(tensor, tensor.T, out=y3)"
      ],
      "metadata": {
        "colab": {
          "base_uri": "https://localhost:8080/"
        },
        "id": "hI7etSaiKrAy",
        "outputId": "d2c4f976-7d52-48a1-a4f4-939056827216"
      },
      "execution_count": 69,
      "outputs": [
        {
          "output_type": "execute_result",
          "data": {
            "text/plain": [
              "tensor([[3., 3., 3., 3.],\n",
              "        [3., 3., 3., 3.],\n",
              "        [3., 3., 3., 3.],\n",
              "        [3., 3., 3., 3.]])"
            ]
          },
          "metadata": {},
          "execution_count": 69
        }
      ]
    },
    {
      "cell_type": "code",
      "source": [
        "tensor"
      ],
      "metadata": {
        "colab": {
          "base_uri": "https://localhost:8080/"
        },
        "id": "B32ehDZYKq-6",
        "outputId": "248081dc-4c44-480a-f083-e9d321b05c02"
      },
      "execution_count": 70,
      "outputs": [
        {
          "output_type": "execute_result",
          "data": {
            "text/plain": [
              "tensor([[1., 0., 1., 1.],\n",
              "        [1., 0., 1., 1.],\n",
              "        [1., 0., 1., 1.],\n",
              "        [1., 0., 1., 1.]])"
            ]
          },
          "metadata": {},
          "execution_count": 70
        }
      ]
    },
    {
      "cell_type": "code",
      "source": [
        "gg = tensor.sum()\n",
        "gg"
      ],
      "metadata": {
        "colab": {
          "base_uri": "https://localhost:8080/"
        },
        "id": "lR-_llw_Kq8R",
        "outputId": "33b1ccae-8a39-4fc9-bb47-f07ed4cef59a"
      },
      "execution_count": 72,
      "outputs": [
        {
          "output_type": "execute_result",
          "data": {
            "text/plain": [
              "tensor(12.)"
            ]
          },
          "metadata": {},
          "execution_count": 72
        }
      ]
    },
    {
      "cell_type": "code",
      "source": [
        "agg_item = gg.item()\n",
        "agg_item"
      ],
      "metadata": {
        "colab": {
          "base_uri": "https://localhost:8080/"
        },
        "id": "AIh7FWepKq6K",
        "outputId": "5a5a8ca3-4dfa-469b-bc2d-235aec02e1fb"
      },
      "execution_count": 75,
      "outputs": [
        {
          "output_type": "execute_result",
          "data": {
            "text/plain": [
              "12.0"
            ]
          },
          "metadata": {},
          "execution_count": 75
        }
      ]
    },
    {
      "cell_type": "code",
      "source": [
        "tensor.add_(5)"
      ],
      "metadata": {
        "colab": {
          "base_uri": "https://localhost:8080/"
        },
        "id": "BmimDpRYLNpg",
        "outputId": "2b0f954a-0af7-4b39-aaa3-fb02113bee8b"
      },
      "execution_count": 76,
      "outputs": [
        {
          "output_type": "execute_result",
          "data": {
            "text/plain": [
              "tensor([[6., 5., 6., 6.],\n",
              "        [6., 5., 6., 6.],\n",
              "        [6., 5., 6., 6.],\n",
              "        [6., 5., 6., 6.]])"
            ]
          },
          "metadata": {},
          "execution_count": 76
        }
      ]
    },
    {
      "cell_type": "markdown",
      "source": [
        "* tensor to numpy"
      ],
      "metadata": {
        "id": "VsQ3LtR-LRTw"
      }
    },
    {
      "cell_type": "code",
      "source": [
        "n = tensor.numpy()\n",
        "n"
      ],
      "metadata": {
        "colab": {
          "base_uri": "https://localhost:8080/"
        },
        "id": "Wd7byPbDLRQ0",
        "outputId": "8547b02d-b4c1-466e-d0b4-f1e3179af167"
      },
      "execution_count": 77,
      "outputs": [
        {
          "output_type": "execute_result",
          "data": {
            "text/plain": [
              "array([[6., 5., 6., 6.],\n",
              "       [6., 5., 6., 6.],\n",
              "       [6., 5., 6., 6.],\n",
              "       [6., 5., 6., 6.]], dtype=float32)"
            ]
          },
          "metadata": {},
          "execution_count": 77
        }
      ]
    },
    {
      "cell_type": "code",
      "source": [
        "tensor.add_(1)"
      ],
      "metadata": {
        "colab": {
          "base_uri": "https://localhost:8080/"
        },
        "id": "bydlyL28Lawe",
        "outputId": "4bc0055d-77b2-48f2-f4fa-4c8f2bb5f64a"
      },
      "execution_count": 79,
      "outputs": [
        {
          "output_type": "execute_result",
          "data": {
            "text/plain": [
              "tensor([[7., 6., 7., 7.],\n",
              "        [7., 6., 7., 7.],\n",
              "        [7., 6., 7., 7.],\n",
              "        [7., 6., 7., 7.]])"
            ]
          },
          "metadata": {},
          "execution_count": 79
        }
      ]
    },
    {
      "cell_type": "markdown",
      "source": [
        "* numpy array to tensor"
      ],
      "metadata": {
        "id": "JW9_P3RRLhv9"
      }
    },
    {
      "cell_type": "code",
      "source": [
        "t = torch.from_numpy(n)\n",
        "t\n"
      ],
      "metadata": {
        "colab": {
          "base_uri": "https://localhost:8080/"
        },
        "id": "EreNGwWvLhsk",
        "outputId": "80f68166-4d9c-45f4-cceb-94a8003e7f33"
      },
      "execution_count": 82,
      "outputs": [
        {
          "output_type": "execute_result",
          "data": {
            "text/plain": [
              "tensor([[7., 6., 7., 7.],\n",
              "        [7., 6., 7., 7.],\n",
              "        [7., 6., 7., 7.],\n",
              "        [7., 6., 7., 7.]])"
            ]
          },
          "metadata": {},
          "execution_count": 82
        }
      ]
    },
    {
      "cell_type": "code",
      "source": [
        "%%time\n",
        "value = 0\n",
        "for i in range(len(tensor)):\n",
        "  value += tensor[i] * tensor[i]\n",
        "value"
      ],
      "metadata": {
        "colab": {
          "base_uri": "https://localhost:8080/"
        },
        "id": "ItqrxdH2Lhqk",
        "outputId": "11a3957b-8436-4a01-9f23-ee1241849635"
      },
      "execution_count": 83,
      "outputs": [
        {
          "output_type": "stream",
          "name": "stdout",
          "text": [
            "CPU times: user 1.31 ms, sys: 0 ns, total: 1.31 ms\n",
            "Wall time: 1.13 ms\n"
          ]
        },
        {
          "output_type": "execute_result",
          "data": {
            "text/plain": [
              "tensor([196., 144., 196., 196.])"
            ]
          },
          "metadata": {},
          "execution_count": 83
        }
      ]
    }
  ]
}