{
  "nbformat": 4,
  "nbformat_minor": 0,
  "metadata": {
    "colab": {
      "provenance": []
    },
    "kernelspec": {
      "name": "python3",
      "display_name": "Python 3"
    },
    "language_info": {
      "name": "python"
    }
  },
  "cells": [
    {
      "cell_type": "markdown",
      "source": [
        "## Load the Data"
      ],
      "metadata": {
        "id": "Dx6G6kFqfDfY"
      }
    },
    {
      "cell_type": "code",
      "execution_count": 1,
      "metadata": {
        "colab": {
          "base_uri": "https://localhost:8080/"
        },
        "id": "s1Iq-KZ6fBGi",
        "outputId": "865f48bb-70d4-48bd-e9f0-817187c3a7fb"
      },
      "outputs": [
        {
          "output_type": "stream",
          "name": "stderr",
          "text": [
            "100%|██████████| 9.91M/9.91M [00:03<00:00, 3.21MB/s]\n",
            "100%|██████████| 28.9k/28.9k [00:00<00:00, 157kB/s]\n",
            "100%|██████████| 1.65M/1.65M [00:01<00:00, 1.52MB/s]\n",
            "100%|██████████| 4.54k/4.54k [00:00<00:00, 6.67MB/s]\n"
          ]
        }
      ],
      "source": [
        "import torch\n",
        "import torch.nn as nn\n",
        "import torch.optim as optim\n",
        "from torchvision import datasets, transforms\n",
        "from torch.utils.data import DataLoader\n",
        "\n",
        "transform = transforms.Compose([\n",
        "    transforms.ToTensor(),\n",
        "    transforms.Lambda(lambda x: x.view(-1))  # Flatten 28x28 to 784\n",
        "])\n",
        "\n",
        "train_dataset = datasets.MNIST(root='./data',train=True,transform=transform,download=True)\n",
        "test_dataset = datasets.MNIST(root='./data',train=False,transform=transform)\n",
        "\n",
        "train_loader = DataLoader(train_dataset,batch_size=64,shuffle=True)\n",
        "test_loader = DataLoader(test_dataset,batch_size=64,shuffle=False)\n"
      ]
    },
    {
      "cell_type": "markdown",
      "source": [
        "## Define Neural Network"
      ],
      "metadata": {
        "id": "z4hkFdlTfX1G"
      }
    },
    {
      "cell_type": "code",
      "source": [
        "class FeedforwardNN(nn.Module):\n",
        "  def __init__(self):\n",
        "    super(FeedforwardNN,self).__init__()\n",
        "    self.fc1 = nn.Linear(784,256)\n",
        "    self.fc2 = nn.Linear(256,128)\n",
        "    self.fc3 = nn.Linear(128,10)\n",
        "  def forward(self,x):\n",
        "    x = torch.relu(self.fc1(x))\n",
        "    x = torch.relu(self.fc2(x))\n",
        "    x = self.fc3(x)\n",
        "    return x"
      ],
      "metadata": {
        "id": "Q3ZGVqPMfgHt"
      },
      "execution_count": 3,
      "outputs": []
    },
    {
      "cell_type": "markdown",
      "source": [
        "## Training Loop"
      ],
      "metadata": {
        "id": "6SYh7wMyfgFa"
      }
    },
    {
      "cell_type": "code",
      "source": [
        "model = FeedforwardNN()\n",
        "criterion = nn.CrossEntropyLoss()\n",
        "optimizer = optim.Adam(model.parameters(),lr=0.001)"
      ],
      "metadata": {
        "id": "0IRpmlCqfgDQ"
      },
      "execution_count": 4,
      "outputs": []
    },
    {
      "cell_type": "code",
      "source": [
        "epochs = 5\n",
        "for epoch in range(epochs):\n",
        "  model.train()\n",
        "  total_loss = 0\n",
        "  correct = 0\n",
        "  total = 0\n",
        "\n",
        "  for images, labels in train_loader:\n",
        "\n",
        "    optimizer.zero_grad()\n",
        "    outputs = model(images)\n",
        "    loss = criterion(outputs, labels)\n",
        "    loss.backward()\n",
        "    optimizer.step()\n",
        "\n",
        "    total_loss += loss.item()\n",
        "    _, predicted = torch.max(outputs, 1)\n",
        "    total += labels.size(0)\n",
        "    correct += (predicted == labels).sum().item()\n",
        "  accuracy = correct / total\n",
        "  print(f\"Epoch {epoch+1}, Loss: {total_loss:.4f}, Train Accuracy: {accuracy:.4f}\")\n"
      ],
      "metadata": {
        "colab": {
          "base_uri": "https://localhost:8080/"
        },
        "id": "0c50ZotGfgBB",
        "outputId": "7d528581-5128-416c-e0a9-597c19075122"
      },
      "execution_count": 6,
      "outputs": [
        {
          "output_type": "stream",
          "name": "stdout",
          "text": [
            "Epoch 1, Loss: 28.7318, Train Accuracy: 0.9901\n",
            "Epoch 2, Loss: 22.4823, Train Accuracy: 0.9924\n",
            "Epoch 3, Loss: 20.3290, Train Accuracy: 0.9928\n",
            "Epoch 4, Loss: 16.2156, Train Accuracy: 0.9942\n",
            "Epoch 5, Loss: 14.5458, Train Accuracy: 0.9950\n"
          ]
        }
      ]
    },
    {
      "cell_type": "markdown",
      "source": [
        "## Evaluate"
      ],
      "metadata": {
        "id": "nN2l_z6tguDr"
      }
    },
    {
      "cell_type": "code",
      "source": [
        "model.eval()\n",
        "correct = 0\n",
        "total = 0\n",
        "\n",
        "with torch.no_grad():\n",
        "  for images, labels in test_loader:\n",
        "    outputs = model(images)\n",
        "    _, predicted = torch.max(outputs, 1)\n",
        "    total += labels.size(0)\n",
        "    correct += (predicted == labels).sum().item()\n",
        "\n",
        "accuracy = correct / total\n",
        "print(f\"Test Accuracy: {accuracy:.4f}\")"
      ],
      "metadata": {
        "colab": {
          "base_uri": "https://localhost:8080/"
        },
        "id": "SjOx7cVzguBh",
        "outputId": "dc203048-ee32-45bf-c907-abe433591942"
      },
      "execution_count": 7,
      "outputs": [
        {
          "output_type": "stream",
          "name": "stdout",
          "text": [
            "Test Accuracy: 0.9803\n"
          ]
        }
      ]
    },
    {
      "cell_type": "code",
      "source": [],
      "metadata": {
        "id": "ENWfDyn1gt_T"
      },
      "execution_count": null,
      "outputs": []
    },
    {
      "cell_type": "code",
      "source": [],
      "metadata": {
        "id": "Klowe7Kzgt9M"
      },
      "execution_count": null,
      "outputs": []
    }
  ]
}